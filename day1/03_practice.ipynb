{
  "cells": [
    {
      "cell_type": "markdown",
      "metadata": {
        "id": "view-in-github",
        "colab_type": "text"
      },
      "source": [
        "<a href=\"https://colab.research.google.com/github/IlTACK-OH/pandas_practice/blob/main/day1/03_practice.ipynb\" target=\"_parent\"><img src=\"https://colab.research.google.com/assets/colab-badge.svg\" alt=\"Open In Colab\"/></a>"
      ]
    },
    {
      "cell_type": "markdown",
      "metadata": {
        "id": "wNQA84GGs-Ol"
      },
      "source": [
        "# 시리즈 만들기"
      ]
    },
    {
      "cell_type": "markdown",
      "source": [
        "- 시리즈를 직접 생성하여 본다."
      ],
      "metadata": {
        "id": "UJjrOfqutJy8"
      }
    },
    {
      "cell_type": "code",
      "execution_count": 1,
      "metadata": {
        "id": "zcyRARrPs-Oo",
        "outputId": "ca4c7e96-d24c-47aa-f286-229678b5e2e0",
        "colab": {
          "base_uri": "https://localhost:8080/"
        }
      },
      "outputs": [
        {
          "output_type": "execute_result",
          "data": {
            "text/plain": [
              "0    banna\n",
              "1       42\n",
              "dtype: object"
            ]
          },
          "metadata": {},
          "execution_count": 1
        }
      ],
      "source": [
        "import pandas as pd\n",
        "import numpy as np\n",
        "s = pd.Series(['banna',42])\n",
        "s"
      ]
    },
    {
      "cell_type": "markdown",
      "source": [
        "앞 서 2장에서 인덱스는 보통 0부터 시작한다고 했다. 하지만 시리즈를 생성할 때 문자열을 인덱스로 지정할 수도 있다.<br><br>\n",
        "문자열을 인덱스로 지정하려면 `series`메서드이 `index`인자를 통해 인덱스로 사용하고자 하는 문자열을 리스트에 담아 전달하면 된다."
      ],
      "metadata": {
        "id": "AfCsWBL1tdUg"
      }
    },
    {
      "cell_type": "code",
      "source": [
        "s = pd.Series(['Wes McKinney','Create of Pandas'])\n",
        "print(s)\n",
        "print(\"\\n\")\n",
        "s = pd.Series(['Wes McKinney','Create of Pandas'], index = ['Person','Who'])\n",
        "s"
      ],
      "metadata": {
        "id": "_pQ8-S1ftzCi",
        "outputId": "149d1874-af63-4dc2-e955-9d5f9e5ba2fa",
        "colab": {
          "base_uri": "https://localhost:8080/"
        }
      },
      "execution_count": 2,
      "outputs": [
        {
          "output_type": "stream",
          "name": "stdout",
          "text": [
            "0        Wes McKinney\n",
            "1    Create of Pandas\n",
            "dtype: object\n",
            "\n",
            "\n"
          ]
        },
        {
          "output_type": "execute_result",
          "data": {
            "text/plain": [
              "Person        Wes McKinney\n",
              "Who       Create of Pandas\n",
              "dtype: object"
            ]
          },
          "metadata": {},
          "execution_count": 2
        }
      ]
    },
    {
      "cell_type": "markdown",
      "metadata": {
        "id": "YiJVsrh-s-Oo"
      },
      "source": [
        "# 데이터프레임 만들기"
      ]
    },
    {
      "cell_type": "markdown",
      "source": [
        "데이터프레임을 만들기 위해서는 딕셔너리를 DataFrame클래스에 전달해야 한다."
      ],
      "metadata": {
        "id": "bSxYTUkvuh4Y"
      }
    },
    {
      "cell_type": "code",
      "execution_count": 3,
      "metadata": {
        "id": "P3eZxvNYs-Op",
        "outputId": "981bfe45-b62b-4d06-b811-902d237694aa",
        "colab": {
          "base_uri": "https://localhost:8080/",
          "height": 112
        }
      },
      "outputs": [
        {
          "output_type": "execute_result",
          "data": {
            "text/plain": [
              "               Name    Occupation        Born        Died Age\n",
              "0  Rosline Franklin        Chemis  1920-07-25  1958-04-16  37\n",
              "1    William Gosset  Statistician  1876-06-13  1937-10-16  61"
            ],
            "text/html": [
              "\n",
              "  <div id=\"df-9fb65a8e-54a5-431a-96c3-2753eddaf7d2\">\n",
              "    <div class=\"colab-df-container\">\n",
              "      <div>\n",
              "<style scoped>\n",
              "    .dataframe tbody tr th:only-of-type {\n",
              "        vertical-align: middle;\n",
              "    }\n",
              "\n",
              "    .dataframe tbody tr th {\n",
              "        vertical-align: top;\n",
              "    }\n",
              "\n",
              "    .dataframe thead th {\n",
              "        text-align: right;\n",
              "    }\n",
              "</style>\n",
              "<table border=\"1\" class=\"dataframe\">\n",
              "  <thead>\n",
              "    <tr style=\"text-align: right;\">\n",
              "      <th></th>\n",
              "      <th>Name</th>\n",
              "      <th>Occupation</th>\n",
              "      <th>Born</th>\n",
              "      <th>Died</th>\n",
              "      <th>Age</th>\n",
              "    </tr>\n",
              "  </thead>\n",
              "  <tbody>\n",
              "    <tr>\n",
              "      <th>0</th>\n",
              "      <td>Rosline Franklin</td>\n",
              "      <td>Chemis</td>\n",
              "      <td>1920-07-25</td>\n",
              "      <td>1958-04-16</td>\n",
              "      <td>37</td>\n",
              "    </tr>\n",
              "    <tr>\n",
              "      <th>1</th>\n",
              "      <td>William Gosset</td>\n",
              "      <td>Statistician</td>\n",
              "      <td>1876-06-13</td>\n",
              "      <td>1937-10-16</td>\n",
              "      <td>61</td>\n",
              "    </tr>\n",
              "  </tbody>\n",
              "</table>\n",
              "</div>\n",
              "      <button class=\"colab-df-convert\" onclick=\"convertToInteractive('df-9fb65a8e-54a5-431a-96c3-2753eddaf7d2')\"\n",
              "              title=\"Convert this dataframe to an interactive table.\"\n",
              "              style=\"display:none;\">\n",
              "        \n",
              "  <svg xmlns=\"http://www.w3.org/2000/svg\" height=\"24px\"viewBox=\"0 0 24 24\"\n",
              "       width=\"24px\">\n",
              "    <path d=\"M0 0h24v24H0V0z\" fill=\"none\"/>\n",
              "    <path d=\"M18.56 5.44l.94 2.06.94-2.06 2.06-.94-2.06-.94-.94-2.06-.94 2.06-2.06.94zm-11 1L8.5 8.5l.94-2.06 2.06-.94-2.06-.94L8.5 2.5l-.94 2.06-2.06.94zm10 10l.94 2.06.94-2.06 2.06-.94-2.06-.94-.94-2.06-.94 2.06-2.06.94z\"/><path d=\"M17.41 7.96l-1.37-1.37c-.4-.4-.92-.59-1.43-.59-.52 0-1.04.2-1.43.59L10.3 9.45l-7.72 7.72c-.78.78-.78 2.05 0 2.83L4 21.41c.39.39.9.59 1.41.59.51 0 1.02-.2 1.41-.59l7.78-7.78 2.81-2.81c.8-.78.8-2.07 0-2.86zM5.41 20L4 18.59l7.72-7.72 1.47 1.35L5.41 20z\"/>\n",
              "  </svg>\n",
              "      </button>\n",
              "      \n",
              "  <style>\n",
              "    .colab-df-container {\n",
              "      display:flex;\n",
              "      flex-wrap:wrap;\n",
              "      gap: 12px;\n",
              "    }\n",
              "\n",
              "    .colab-df-convert {\n",
              "      background-color: #E8F0FE;\n",
              "      border: none;\n",
              "      border-radius: 50%;\n",
              "      cursor: pointer;\n",
              "      display: none;\n",
              "      fill: #1967D2;\n",
              "      height: 32px;\n",
              "      padding: 0 0 0 0;\n",
              "      width: 32px;\n",
              "    }\n",
              "\n",
              "    .colab-df-convert:hover {\n",
              "      background-color: #E2EBFA;\n",
              "      box-shadow: 0px 1px 2px rgba(60, 64, 67, 0.3), 0px 1px 3px 1px rgba(60, 64, 67, 0.15);\n",
              "      fill: #174EA6;\n",
              "    }\n",
              "\n",
              "    [theme=dark] .colab-df-convert {\n",
              "      background-color: #3B4455;\n",
              "      fill: #D2E3FC;\n",
              "    }\n",
              "\n",
              "    [theme=dark] .colab-df-convert:hover {\n",
              "      background-color: #434B5C;\n",
              "      box-shadow: 0px 1px 3px 1px rgba(0, 0, 0, 0.15);\n",
              "      filter: drop-shadow(0px 1px 2px rgba(0, 0, 0, 0.3));\n",
              "      fill: #FFFFFF;\n",
              "    }\n",
              "  </style>\n",
              "\n",
              "      <script>\n",
              "        const buttonEl =\n",
              "          document.querySelector('#df-9fb65a8e-54a5-431a-96c3-2753eddaf7d2 button.colab-df-convert');\n",
              "        buttonEl.style.display =\n",
              "          google.colab.kernel.accessAllowed ? 'block' : 'none';\n",
              "\n",
              "        async function convertToInteractive(key) {\n",
              "          const element = document.querySelector('#df-9fb65a8e-54a5-431a-96c3-2753eddaf7d2');\n",
              "          const dataTable =\n",
              "            await google.colab.kernel.invokeFunction('convertToInteractive',\n",
              "                                                     [key], {});\n",
              "          if (!dataTable) return;\n",
              "\n",
              "          const docLinkHtml = 'Like what you see? Visit the ' +\n",
              "            '<a target=\"_blank\" href=https://colab.research.google.com/notebooks/data_table.ipynb>data table notebook</a>'\n",
              "            + ' to learn more about interactive tables.';\n",
              "          element.innerHTML = '';\n",
              "          dataTable['output_type'] = 'display_data';\n",
              "          await google.colab.output.renderOutput(dataTable, element);\n",
              "          const docLink = document.createElement('div');\n",
              "          docLink.innerHTML = docLinkHtml;\n",
              "          element.appendChild(docLink);\n",
              "        }\n",
              "      </script>\n",
              "    </div>\n",
              "  </div>\n",
              "  "
            ]
          },
          "metadata": {},
          "execution_count": 3
        }
      ],
      "source": [
        "scientists = pd.DataFrame({\n",
        "    'Name':['Rosline Franklin', 'William Gosset'],\n",
        "    'Occupation':['Chemis','Statistician'],\n",
        "    'Born':['1920-07-25','1876-06-13'],\n",
        "    'Died':['1958-04-16','1937-10-16'],\n",
        "    'Age':['37','61']\n",
        "})\n",
        "scientists"
      ]
    },
    {
      "cell_type": "markdown",
      "source": [
        "시리즈와 마찬가지로 데이터프레임도 인덱스를 따로 지정하지 않으면 인덱스를 0부터 자동으로 생성한다.<br>\n",
        "인덱스를 따로 지정하려면 `index`인자에 리스트를 전달하면 된다.<br> 또 columns인자를 사용하면 데이터프레임의 열 순서를 지정할 수 있다."
      ],
      "metadata": {
        "id": "5hsQg842vijC"
      }
    },
    {
      "cell_type": "code",
      "source": [
        "scientists = pd.DataFrame(\n",
        "    data = {'Name':['Rosline Franklin', 'Wililam Gosset'],\n",
        "    'Occupation':['Chemis','Statistician'],\n",
        "    'Born':['1920-07-25','1876-06-13'],\n",
        "    'Died':['1958-04-16','1937-10-16'],\n",
        "    'Age':['37','61']},\n",
        "    index = ['Rosaline Franklin','William Gosset'],\n",
        "    columns = ['Occupation','Born','Age','Died']\n",
        ")\n",
        "scientists"
      ],
      "metadata": {
        "id": "FpQFE8Dyv555",
        "outputId": "06bd7f01-d2a7-41bd-dbc8-b66a7036683b",
        "colab": {
          "base_uri": "https://localhost:8080/",
          "height": 112
        }
      },
      "execution_count": 4,
      "outputs": [
        {
          "output_type": "execute_result",
          "data": {
            "text/plain": [
              "                     Occupation        Born Age        Died\n",
              "Rosaline Franklin        Chemis  1920-07-25  37  1958-04-16\n",
              "William Gosset     Statistician  1876-06-13  61  1937-10-16"
            ],
            "text/html": [
              "\n",
              "  <div id=\"df-c614c9fc-5a86-45f7-bf50-b768b7911e60\">\n",
              "    <div class=\"colab-df-container\">\n",
              "      <div>\n",
              "<style scoped>\n",
              "    .dataframe tbody tr th:only-of-type {\n",
              "        vertical-align: middle;\n",
              "    }\n",
              "\n",
              "    .dataframe tbody tr th {\n",
              "        vertical-align: top;\n",
              "    }\n",
              "\n",
              "    .dataframe thead th {\n",
              "        text-align: right;\n",
              "    }\n",
              "</style>\n",
              "<table border=\"1\" class=\"dataframe\">\n",
              "  <thead>\n",
              "    <tr style=\"text-align: right;\">\n",
              "      <th></th>\n",
              "      <th>Occupation</th>\n",
              "      <th>Born</th>\n",
              "      <th>Age</th>\n",
              "      <th>Died</th>\n",
              "    </tr>\n",
              "  </thead>\n",
              "  <tbody>\n",
              "    <tr>\n",
              "      <th>Rosaline Franklin</th>\n",
              "      <td>Chemis</td>\n",
              "      <td>1920-07-25</td>\n",
              "      <td>37</td>\n",
              "      <td>1958-04-16</td>\n",
              "    </tr>\n",
              "    <tr>\n",
              "      <th>William Gosset</th>\n",
              "      <td>Statistician</td>\n",
              "      <td>1876-06-13</td>\n",
              "      <td>61</td>\n",
              "      <td>1937-10-16</td>\n",
              "    </tr>\n",
              "  </tbody>\n",
              "</table>\n",
              "</div>\n",
              "      <button class=\"colab-df-convert\" onclick=\"convertToInteractive('df-c614c9fc-5a86-45f7-bf50-b768b7911e60')\"\n",
              "              title=\"Convert this dataframe to an interactive table.\"\n",
              "              style=\"display:none;\">\n",
              "        \n",
              "  <svg xmlns=\"http://www.w3.org/2000/svg\" height=\"24px\"viewBox=\"0 0 24 24\"\n",
              "       width=\"24px\">\n",
              "    <path d=\"M0 0h24v24H0V0z\" fill=\"none\"/>\n",
              "    <path d=\"M18.56 5.44l.94 2.06.94-2.06 2.06-.94-2.06-.94-.94-2.06-.94 2.06-2.06.94zm-11 1L8.5 8.5l.94-2.06 2.06-.94-2.06-.94L8.5 2.5l-.94 2.06-2.06.94zm10 10l.94 2.06.94-2.06 2.06-.94-2.06-.94-.94-2.06-.94 2.06-2.06.94z\"/><path d=\"M17.41 7.96l-1.37-1.37c-.4-.4-.92-.59-1.43-.59-.52 0-1.04.2-1.43.59L10.3 9.45l-7.72 7.72c-.78.78-.78 2.05 0 2.83L4 21.41c.39.39.9.59 1.41.59.51 0 1.02-.2 1.41-.59l7.78-7.78 2.81-2.81c.8-.78.8-2.07 0-2.86zM5.41 20L4 18.59l7.72-7.72 1.47 1.35L5.41 20z\"/>\n",
              "  </svg>\n",
              "      </button>\n",
              "      \n",
              "  <style>\n",
              "    .colab-df-container {\n",
              "      display:flex;\n",
              "      flex-wrap:wrap;\n",
              "      gap: 12px;\n",
              "    }\n",
              "\n",
              "    .colab-df-convert {\n",
              "      background-color: #E8F0FE;\n",
              "      border: none;\n",
              "      border-radius: 50%;\n",
              "      cursor: pointer;\n",
              "      display: none;\n",
              "      fill: #1967D2;\n",
              "      height: 32px;\n",
              "      padding: 0 0 0 0;\n",
              "      width: 32px;\n",
              "    }\n",
              "\n",
              "    .colab-df-convert:hover {\n",
              "      background-color: #E2EBFA;\n",
              "      box-shadow: 0px 1px 2px rgba(60, 64, 67, 0.3), 0px 1px 3px 1px rgba(60, 64, 67, 0.15);\n",
              "      fill: #174EA6;\n",
              "    }\n",
              "\n",
              "    [theme=dark] .colab-df-convert {\n",
              "      background-color: #3B4455;\n",
              "      fill: #D2E3FC;\n",
              "    }\n",
              "\n",
              "    [theme=dark] .colab-df-convert:hover {\n",
              "      background-color: #434B5C;\n",
              "      box-shadow: 0px 1px 3px 1px rgba(0, 0, 0, 0.15);\n",
              "      filter: drop-shadow(0px 1px 2px rgba(0, 0, 0, 0.3));\n",
              "      fill: #FFFFFF;\n",
              "    }\n",
              "  </style>\n",
              "\n",
              "      <script>\n",
              "        const buttonEl =\n",
              "          document.querySelector('#df-c614c9fc-5a86-45f7-bf50-b768b7911e60 button.colab-df-convert');\n",
              "        buttonEl.style.display =\n",
              "          google.colab.kernel.accessAllowed ? 'block' : 'none';\n",
              "\n",
              "        async function convertToInteractive(key) {\n",
              "          const element = document.querySelector('#df-c614c9fc-5a86-45f7-bf50-b768b7911e60');\n",
              "          const dataTable =\n",
              "            await google.colab.kernel.invokeFunction('convertToInteractive',\n",
              "                                                     [key], {});\n",
              "          if (!dataTable) return;\n",
              "\n",
              "          const docLinkHtml = 'Like what you see? Visit the ' +\n",
              "            '<a target=\"_blank\" href=https://colab.research.google.com/notebooks/data_table.ipynb>data table notebook</a>'\n",
              "            + ' to learn more about interactive tables.';\n",
              "          element.innerHTML = '';\n",
              "          dataTable['output_type'] = 'display_data';\n",
              "          await google.colab.output.renderOutput(dataTable, element);\n",
              "          const docLink = document.createElement('div');\n",
              "          docLink.innerHTML = docLinkHtml;\n",
              "          element.appendChild(docLink);\n",
              "        }\n",
              "      </script>\n",
              "    </div>\n",
              "  </div>\n",
              "  "
            ]
          },
          "metadata": {},
          "execution_count": 4
        }
      ]
    },
    {
      "cell_type": "markdown",
      "source": [
        "데이터프레임을 만들 때 딕셔너리를 전달한다고 했다. 그런데 딕셔너리는 데이터의 순서를 보장하지 않는다.<br>\n",
        "만약 순서가 보장된 딕셔너리를 전달하려면 OrderedDict클래스를 사용해야 한다."
      ],
      "metadata": {
        "id": "AS7UEkIZwo1Z"
      }
    },
    {
      "cell_type": "code",
      "source": [
        "from collections import OrderedDict\n",
        "\n",
        "scientists = pd.DataFrame(OrderedDict([\n",
        "    ('Name',['Rosline Franklin', 'William Gosset']),\n",
        "    ('Occupation',['Chemis','Statistician']),\n",
        "    ('Born',['1920-07-25','1876-06-13']),\n",
        "    ('Died',['1958-04-16','1937-10-16']),\n",
        "    ('Age',['37','61'])\n",
        "])\n",
        ")\n",
        "\n",
        "scientists"
      ],
      "metadata": {
        "id": "GvKxb4PXw5Gk",
        "outputId": "83ee30d5-5e2d-485c-8adb-0aa84ab5ada9",
        "colab": {
          "base_uri": "https://localhost:8080/",
          "height": 112
        }
      },
      "execution_count": 5,
      "outputs": [
        {
          "output_type": "execute_result",
          "data": {
            "text/plain": [
              "               Name    Occupation        Born        Died Age\n",
              "0  Rosline Franklin        Chemis  1920-07-25  1958-04-16  37\n",
              "1    William Gosset  Statistician  1876-06-13  1937-10-16  61"
            ],
            "text/html": [
              "\n",
              "  <div id=\"df-e8a5fcf1-7980-455d-a13f-6f17e850bb6d\">\n",
              "    <div class=\"colab-df-container\">\n",
              "      <div>\n",
              "<style scoped>\n",
              "    .dataframe tbody tr th:only-of-type {\n",
              "        vertical-align: middle;\n",
              "    }\n",
              "\n",
              "    .dataframe tbody tr th {\n",
              "        vertical-align: top;\n",
              "    }\n",
              "\n",
              "    .dataframe thead th {\n",
              "        text-align: right;\n",
              "    }\n",
              "</style>\n",
              "<table border=\"1\" class=\"dataframe\">\n",
              "  <thead>\n",
              "    <tr style=\"text-align: right;\">\n",
              "      <th></th>\n",
              "      <th>Name</th>\n",
              "      <th>Occupation</th>\n",
              "      <th>Born</th>\n",
              "      <th>Died</th>\n",
              "      <th>Age</th>\n",
              "    </tr>\n",
              "  </thead>\n",
              "  <tbody>\n",
              "    <tr>\n",
              "      <th>0</th>\n",
              "      <td>Rosline Franklin</td>\n",
              "      <td>Chemis</td>\n",
              "      <td>1920-07-25</td>\n",
              "      <td>1958-04-16</td>\n",
              "      <td>37</td>\n",
              "    </tr>\n",
              "    <tr>\n",
              "      <th>1</th>\n",
              "      <td>William Gosset</td>\n",
              "      <td>Statistician</td>\n",
              "      <td>1876-06-13</td>\n",
              "      <td>1937-10-16</td>\n",
              "      <td>61</td>\n",
              "    </tr>\n",
              "  </tbody>\n",
              "</table>\n",
              "</div>\n",
              "      <button class=\"colab-df-convert\" onclick=\"convertToInteractive('df-e8a5fcf1-7980-455d-a13f-6f17e850bb6d')\"\n",
              "              title=\"Convert this dataframe to an interactive table.\"\n",
              "              style=\"display:none;\">\n",
              "        \n",
              "  <svg xmlns=\"http://www.w3.org/2000/svg\" height=\"24px\"viewBox=\"0 0 24 24\"\n",
              "       width=\"24px\">\n",
              "    <path d=\"M0 0h24v24H0V0z\" fill=\"none\"/>\n",
              "    <path d=\"M18.56 5.44l.94 2.06.94-2.06 2.06-.94-2.06-.94-.94-2.06-.94 2.06-2.06.94zm-11 1L8.5 8.5l.94-2.06 2.06-.94-2.06-.94L8.5 2.5l-.94 2.06-2.06.94zm10 10l.94 2.06.94-2.06 2.06-.94-2.06-.94-.94-2.06-.94 2.06-2.06.94z\"/><path d=\"M17.41 7.96l-1.37-1.37c-.4-.4-.92-.59-1.43-.59-.52 0-1.04.2-1.43.59L10.3 9.45l-7.72 7.72c-.78.78-.78 2.05 0 2.83L4 21.41c.39.39.9.59 1.41.59.51 0 1.02-.2 1.41-.59l7.78-7.78 2.81-2.81c.8-.78.8-2.07 0-2.86zM5.41 20L4 18.59l7.72-7.72 1.47 1.35L5.41 20z\"/>\n",
              "  </svg>\n",
              "      </button>\n",
              "      \n",
              "  <style>\n",
              "    .colab-df-container {\n",
              "      display:flex;\n",
              "      flex-wrap:wrap;\n",
              "      gap: 12px;\n",
              "    }\n",
              "\n",
              "    .colab-df-convert {\n",
              "      background-color: #E8F0FE;\n",
              "      border: none;\n",
              "      border-radius: 50%;\n",
              "      cursor: pointer;\n",
              "      display: none;\n",
              "      fill: #1967D2;\n",
              "      height: 32px;\n",
              "      padding: 0 0 0 0;\n",
              "      width: 32px;\n",
              "    }\n",
              "\n",
              "    .colab-df-convert:hover {\n",
              "      background-color: #E2EBFA;\n",
              "      box-shadow: 0px 1px 2px rgba(60, 64, 67, 0.3), 0px 1px 3px 1px rgba(60, 64, 67, 0.15);\n",
              "      fill: #174EA6;\n",
              "    }\n",
              "\n",
              "    [theme=dark] .colab-df-convert {\n",
              "      background-color: #3B4455;\n",
              "      fill: #D2E3FC;\n",
              "    }\n",
              "\n",
              "    [theme=dark] .colab-df-convert:hover {\n",
              "      background-color: #434B5C;\n",
              "      box-shadow: 0px 1px 3px 1px rgba(0, 0, 0, 0.15);\n",
              "      filter: drop-shadow(0px 1px 2px rgba(0, 0, 0, 0.3));\n",
              "      fill: #FFFFFF;\n",
              "    }\n",
              "  </style>\n",
              "\n",
              "      <script>\n",
              "        const buttonEl =\n",
              "          document.querySelector('#df-e8a5fcf1-7980-455d-a13f-6f17e850bb6d button.colab-df-convert');\n",
              "        buttonEl.style.display =\n",
              "          google.colab.kernel.accessAllowed ? 'block' : 'none';\n",
              "\n",
              "        async function convertToInteractive(key) {\n",
              "          const element = document.querySelector('#df-e8a5fcf1-7980-455d-a13f-6f17e850bb6d');\n",
              "          const dataTable =\n",
              "            await google.colab.kernel.invokeFunction('convertToInteractive',\n",
              "                                                     [key], {});\n",
              "          if (!dataTable) return;\n",
              "\n",
              "          const docLinkHtml = 'Like what you see? Visit the ' +\n",
              "            '<a target=\"_blank\" href=https://colab.research.google.com/notebooks/data_table.ipynb>data table notebook</a>'\n",
              "            + ' to learn more about interactive tables.';\n",
              "          element.innerHTML = '';\n",
              "          dataTable['output_type'] = 'display_data';\n",
              "          await google.colab.output.renderOutput(dataTable, element);\n",
              "          const docLink = document.createElement('div');\n",
              "          docLink.innerHTML = docLinkHtml;\n",
              "          element.appendChild(docLink);\n",
              "        }\n",
              "      </script>\n",
              "    </div>\n",
              "  </div>\n",
              "  "
            ]
          },
          "metadata": {},
          "execution_count": 5
        }
      ]
    },
    {
      "cell_type": "markdown",
      "metadata": {
        "id": "MdMBjzFps-Op"
      },
      "source": [
        "# 데이터프레임에서 시리즈 선택하기"
      ]
    },
    {
      "cell_type": "markdown",
      "source": [
        "먼저 앞 서 사용한 데이터프레임을 준비한다."
      ],
      "metadata": {
        "id": "4bZLnaJxyEqQ"
      }
    },
    {
      "cell_type": "code",
      "execution_count": 16,
      "metadata": {
        "id": "U47wS9rGs-Op"
      },
      "outputs": [],
      "source": [
        "scientists = pd.DataFrame(\n",
        "    data = {'Name':['Rosline Franklin', 'William Gosset'],\n",
        "    'Occupation':['Chemis','Statistician'],\n",
        "    'Born':['1920-07-25','1876-06-13'],\n",
        "    'Died':['1958-04-16','1937-10-16'],\n",
        "    'Age':[37,61]},\n",
        "    index = ['Rosaline Franklin','William Gosset'],\n",
        "    columns = ['Occupation','Born','Age','Died']\n",
        ")"
      ]
    },
    {
      "cell_type": "markdown",
      "source": [
        "데이터프레임에서 시리즈를 선택하려면 loc속성에 인덱스를 전달하면 된다."
      ],
      "metadata": {
        "id": "EeqRcFEJyMmM"
      }
    },
    {
      "cell_type": "code",
      "source": [
        "first_row = scientists.loc['William Gosset']\n",
        "type(first_row)"
      ],
      "metadata": {
        "id": "BgyJJQEMySCb",
        "outputId": "48de3fbe-d3dc-4cdf-9f65-3870f4e57f40",
        "colab": {
          "base_uri": "https://localhost:8080/"
        }
      },
      "execution_count": 7,
      "outputs": [
        {
          "output_type": "execute_result",
          "data": {
            "text/plain": [
              "pandas.core.series.Series"
            ]
          },
          "metadata": {},
          "execution_count": 7
        }
      ]
    },
    {
      "cell_type": "code",
      "source": [
        "first_row"
      ],
      "metadata": {
        "id": "431PsDreyxu3",
        "outputId": "97f90521-b9c3-4ca5-a6cd-f5d9b512d9f4",
        "colab": {
          "base_uri": "https://localhost:8080/"
        }
      },
      "execution_count": 8,
      "outputs": [
        {
          "output_type": "execute_result",
          "data": {
            "text/plain": [
              "Occupation    Statistician\n",
              "Born            1876-06-13\n",
              "Age                     61\n",
              "Died            1937-10-16\n",
              "Name: William Gosset, dtype: object"
            ]
          },
          "metadata": {},
          "execution_count": 8
        }
      ]
    },
    {
      "cell_type": "markdown",
      "metadata": {
        "id": "TDkQGmY9s-Oq"
      },
      "source": [
        "# index, values, keys 사용하기"
      ]
    },
    {
      "cell_type": "markdown",
      "source": [
        "먼저, index속성을 사용해 본다."
      ],
      "metadata": {
        "id": "zzFbKLVKzNPI"
      }
    },
    {
      "cell_type": "code",
      "execution_count": 9,
      "metadata": {
        "id": "OWjV33JIs-Oq",
        "outputId": "05f6c553-ae96-4561-921e-bfaf75972b4d",
        "colab": {
          "base_uri": "https://localhost:8080/"
        }
      },
      "outputs": [
        {
          "output_type": "execute_result",
          "data": {
            "text/plain": [
              "Index(['Occupation', 'Born', 'Age', 'Died'], dtype='object')"
            ]
          },
          "metadata": {},
          "execution_count": 9
        }
      ],
      "source": [
        "first_row.index"
      ]
    },
    {
      "cell_type": "markdown",
      "source": [
        "values속성에는 시리즈의 데이터가 저장되어 있다."
      ],
      "metadata": {
        "id": "7v8aEHKczWmL"
      }
    },
    {
      "cell_type": "code",
      "source": [
        "first_row.values"
      ],
      "metadata": {
        "id": "pjBTg4TUzUBL",
        "outputId": "0aaadb04-26a0-418c-a4c6-35bab2b40119",
        "colab": {
          "base_uri": "https://localhost:8080/"
        }
      },
      "execution_count": 10,
      "outputs": [
        {
          "output_type": "execute_result",
          "data": {
            "text/plain": [
              "array(['Statistician', '1876-06-13', '61', '1937-10-16'], dtype=object)"
            ]
          },
          "metadata": {},
          "execution_count": 10
        }
      ]
    },
    {
      "cell_type": "markdown",
      "source": [
        "keys는 속성이 아니라 `메서드`이다.<br>\n",
        "keys메서드의 기능은 index속성과 같은 역활을 한다."
      ],
      "metadata": {
        "id": "UUzYLEjLze5s"
      }
    },
    {
      "cell_type": "code",
      "source": [
        "first_row.keys()"
      ],
      "metadata": {
        "id": "aHZg9KVc0S8R",
        "outputId": "09faab5a-f60c-4d11-859b-43159c7610f7",
        "colab": {
          "base_uri": "https://localhost:8080/"
        }
      },
      "execution_count": 11,
      "outputs": [
        {
          "output_type": "execute_result",
          "data": {
            "text/plain": [
              "Index(['Occupation', 'Born', 'Age', 'Died'], dtype='object')"
            ]
          },
          "metadata": {},
          "execution_count": 11
        }
      ]
    },
    {
      "cell_type": "markdown",
      "source": [
        "만약 index 속성의 첫 번째 값을 추출하려면 다음과 같이 코드를 작성하면 된다."
      ],
      "metadata": {
        "id": "dFS8ltyU0gff"
      }
    },
    {
      "cell_type": "code",
      "source": [
        "first_row.index[0]"
      ],
      "metadata": {
        "id": "8KQM9ckq0mkj",
        "outputId": "2a10bcfa-ac60-4fda-a502-d9ac1661402c",
        "colab": {
          "base_uri": "https://localhost:8080/",
          "height": 35
        }
      },
      "execution_count": 12,
      "outputs": [
        {
          "output_type": "execute_result",
          "data": {
            "text/plain": [
              "'Occupation'"
            ],
            "application/vnd.google.colaboratory.intrinsic+json": {
              "type": "string"
            }
          },
          "metadata": {},
          "execution_count": 12
        }
      ]
    },
    {
      "cell_type": "markdown",
      "source": [
        "keys메서드의 결괏값을 이용하여 인덱스의 첫 번재 값을 추출하는 방법은 다음과 같다.first_row"
      ],
      "metadata": {
        "id": "v1t2qv_10qXB"
      }
    },
    {
      "cell_type": "code",
      "source": [
        "first_row.keys()[0]"
      ],
      "metadata": {
        "id": "VbpATtOc0vnA",
        "outputId": "f8ea7141-f01f-4449-bd20-3a4717ce85a3",
        "colab": {
          "base_uri": "https://localhost:8080/",
          "height": 35
        }
      },
      "execution_count": 13,
      "outputs": [
        {
          "output_type": "execute_result",
          "data": {
            "text/plain": [
              "'Occupation'"
            ],
            "application/vnd.google.colaboratory.intrinsic+json": {
              "type": "string"
            }
          },
          "metadata": {},
          "execution_count": 13
        }
      ]
    },
    {
      "cell_type": "markdown",
      "metadata": {
        "id": "NJMvkoLQs-Or"
      },
      "source": [
        "# 시리즈의 mean, min, max, std 메서드 사용하기"
      ]
    },
    {
      "cell_type": "markdown",
      "source": [
        "이번에는 기초 통계 메서드에 대해서 실습한다.<br>\n",
        "먼저, 앞에서 사용한 scientists의 Age열을추출해보겠다."
      ],
      "metadata": {
        "id": "_D8JmZak09ht"
      }
    },
    {
      "cell_type": "code",
      "execution_count": 19,
      "metadata": {
        "id": "6mRxc96hs-Or",
        "outputId": "fc7fa2fc-25f5-4d48-9cc4-71bdb841115e",
        "colab": {
          "base_uri": "https://localhost:8080/"
        }
      },
      "outputs": [
        {
          "output_type": "execute_result",
          "data": {
            "text/plain": [
              "Rosaline Franklin    37\n",
              "William Gosset       61\n",
              "Name: Age, dtype: int64"
            ]
          },
          "metadata": {},
          "execution_count": 19
        }
      ],
      "source": [
        "ages = scientists['Age']\n",
        "ages"
      ]
    },
    {
      "cell_type": "markdown",
      "source": [
        "만약 시리즈를 구성하는 데이터가 정수라면 `mean`, `min`, `max`, `std`와 같은 통계 메서드를 사용할 수 있다."
      ],
      "metadata": {
        "id": "KNHUAWo41O5u"
      }
    },
    {
      "cell_type": "code",
      "source": [
        "print(ages.mean())\n",
        "print(ages.min())\n",
        "print(ages.max())\n",
        "print(ages.std())"
      ],
      "metadata": {
        "id": "XDs7jd5S1cjL",
        "outputId": "a8cbfd88-ae98-4e91-e6be-1e33acb58b09",
        "colab": {
          "base_uri": "https://localhost:8080/"
        }
      },
      "execution_count": 21,
      "outputs": [
        {
          "output_type": "stream",
          "name": "stdout",
          "text": [
            "49.0\n",
            "37\n",
            "61\n",
            "16.97056274847714\n"
          ]
        }
      ]
    },
    {
      "cell_type": "markdown",
      "metadata": {
        "id": "E0vaH3Lfs-Or"
      },
      "source": [
        "# 시리즈와 불린 추출 사용하기"
      ]
    },
    {
      "cell_type": "markdown",
      "source": [
        "추출할 데이터의 정확한 인덱스를 모르는 경우에 사용하는 방법이 불린 추출이다.<br>\n",
        "불린 추출은 특정 조건을 만족하는 값만 추출할 수 있다.<br><br>\n",
        "우선 사용할 데이터 파일을 불러오자."
      ],
      "metadata": {
        "id": "agCB-Gwd5g_T"
      }
    },
    {
      "cell_type": "code",
      "execution_count": 22,
      "metadata": {
        "id": "o0j47Ikvs-Os",
        "outputId": "244334cb-7930-4895-c74d-1a2f9df283ae",
        "colab": {
          "base_uri": "https://localhost:8080/",
          "height": 77
        }
      },
      "outputs": [
        {
          "output_type": "display_data",
          "data": {
            "text/plain": [
              "<IPython.core.display.HTML object>"
            ],
            "text/html": [
              "\n",
              "     <input type=\"file\" id=\"files-54928ecd-5a15-4679-918a-5bff55cae5dd\" name=\"files[]\" multiple disabled\n",
              "        style=\"border:none\" />\n",
              "     <output id=\"result-54928ecd-5a15-4679-918a-5bff55cae5dd\">\n",
              "      Upload widget is only available when the cell has been executed in the\n",
              "      current browser session. Please rerun this cell to enable.\n",
              "      </output>\n",
              "      <script>// Copyright 2017 Google LLC\n",
              "//\n",
              "// Licensed under the Apache License, Version 2.0 (the \"License\");\n",
              "// you may not use this file except in compliance with the License.\n",
              "// You may obtain a copy of the License at\n",
              "//\n",
              "//      http://www.apache.org/licenses/LICENSE-2.0\n",
              "//\n",
              "// Unless required by applicable law or agreed to in writing, software\n",
              "// distributed under the License is distributed on an \"AS IS\" BASIS,\n",
              "// WITHOUT WARRANTIES OR CONDITIONS OF ANY KIND, either express or implied.\n",
              "// See the License for the specific language governing permissions and\n",
              "// limitations under the License.\n",
              "\n",
              "/**\n",
              " * @fileoverview Helpers for google.colab Python module.\n",
              " */\n",
              "(function(scope) {\n",
              "function span(text, styleAttributes = {}) {\n",
              "  const element = document.createElement('span');\n",
              "  element.textContent = text;\n",
              "  for (const key of Object.keys(styleAttributes)) {\n",
              "    element.style[key] = styleAttributes[key];\n",
              "  }\n",
              "  return element;\n",
              "}\n",
              "\n",
              "// Max number of bytes which will be uploaded at a time.\n",
              "const MAX_PAYLOAD_SIZE = 100 * 1024;\n",
              "\n",
              "function _uploadFiles(inputId, outputId) {\n",
              "  const steps = uploadFilesStep(inputId, outputId);\n",
              "  const outputElement = document.getElementById(outputId);\n",
              "  // Cache steps on the outputElement to make it available for the next call\n",
              "  // to uploadFilesContinue from Python.\n",
              "  outputElement.steps = steps;\n",
              "\n",
              "  return _uploadFilesContinue(outputId);\n",
              "}\n",
              "\n",
              "// This is roughly an async generator (not supported in the browser yet),\n",
              "// where there are multiple asynchronous steps and the Python side is going\n",
              "// to poll for completion of each step.\n",
              "// This uses a Promise to block the python side on completion of each step,\n",
              "// then passes the result of the previous step as the input to the next step.\n",
              "function _uploadFilesContinue(outputId) {\n",
              "  const outputElement = document.getElementById(outputId);\n",
              "  const steps = outputElement.steps;\n",
              "\n",
              "  const next = steps.next(outputElement.lastPromiseValue);\n",
              "  return Promise.resolve(next.value.promise).then((value) => {\n",
              "    // Cache the last promise value to make it available to the next\n",
              "    // step of the generator.\n",
              "    outputElement.lastPromiseValue = value;\n",
              "    return next.value.response;\n",
              "  });\n",
              "}\n",
              "\n",
              "/**\n",
              " * Generator function which is called between each async step of the upload\n",
              " * process.\n",
              " * @param {string} inputId Element ID of the input file picker element.\n",
              " * @param {string} outputId Element ID of the output display.\n",
              " * @return {!Iterable<!Object>} Iterable of next steps.\n",
              " */\n",
              "function* uploadFilesStep(inputId, outputId) {\n",
              "  const inputElement = document.getElementById(inputId);\n",
              "  inputElement.disabled = false;\n",
              "\n",
              "  const outputElement = document.getElementById(outputId);\n",
              "  outputElement.innerHTML = '';\n",
              "\n",
              "  const pickedPromise = new Promise((resolve) => {\n",
              "    inputElement.addEventListener('change', (e) => {\n",
              "      resolve(e.target.files);\n",
              "    });\n",
              "  });\n",
              "\n",
              "  const cancel = document.createElement('button');\n",
              "  inputElement.parentElement.appendChild(cancel);\n",
              "  cancel.textContent = 'Cancel upload';\n",
              "  const cancelPromise = new Promise((resolve) => {\n",
              "    cancel.onclick = () => {\n",
              "      resolve(null);\n",
              "    };\n",
              "  });\n",
              "\n",
              "  // Wait for the user to pick the files.\n",
              "  const files = yield {\n",
              "    promise: Promise.race([pickedPromise, cancelPromise]),\n",
              "    response: {\n",
              "      action: 'starting',\n",
              "    }\n",
              "  };\n",
              "\n",
              "  cancel.remove();\n",
              "\n",
              "  // Disable the input element since further picks are not allowed.\n",
              "  inputElement.disabled = true;\n",
              "\n",
              "  if (!files) {\n",
              "    return {\n",
              "      response: {\n",
              "        action: 'complete',\n",
              "      }\n",
              "    };\n",
              "  }\n",
              "\n",
              "  for (const file of files) {\n",
              "    const li = document.createElement('li');\n",
              "    li.append(span(file.name, {fontWeight: 'bold'}));\n",
              "    li.append(span(\n",
              "        `(${file.type || 'n/a'}) - ${file.size} bytes, ` +\n",
              "        `last modified: ${\n",
              "            file.lastModifiedDate ? file.lastModifiedDate.toLocaleDateString() :\n",
              "                                    'n/a'} - `));\n",
              "    const percent = span('0% done');\n",
              "    li.appendChild(percent);\n",
              "\n",
              "    outputElement.appendChild(li);\n",
              "\n",
              "    const fileDataPromise = new Promise((resolve) => {\n",
              "      const reader = new FileReader();\n",
              "      reader.onload = (e) => {\n",
              "        resolve(e.target.result);\n",
              "      };\n",
              "      reader.readAsArrayBuffer(file);\n",
              "    });\n",
              "    // Wait for the data to be ready.\n",
              "    let fileData = yield {\n",
              "      promise: fileDataPromise,\n",
              "      response: {\n",
              "        action: 'continue',\n",
              "      }\n",
              "    };\n",
              "\n",
              "    // Use a chunked sending to avoid message size limits. See b/62115660.\n",
              "    let position = 0;\n",
              "    do {\n",
              "      const length = Math.min(fileData.byteLength - position, MAX_PAYLOAD_SIZE);\n",
              "      const chunk = new Uint8Array(fileData, position, length);\n",
              "      position += length;\n",
              "\n",
              "      const base64 = btoa(String.fromCharCode.apply(null, chunk));\n",
              "      yield {\n",
              "        response: {\n",
              "          action: 'append',\n",
              "          file: file.name,\n",
              "          data: base64,\n",
              "        },\n",
              "      };\n",
              "\n",
              "      let percentDone = fileData.byteLength === 0 ?\n",
              "          100 :\n",
              "          Math.round((position / fileData.byteLength) * 100);\n",
              "      percent.textContent = `${percentDone}% done`;\n",
              "\n",
              "    } while (position < fileData.byteLength);\n",
              "  }\n",
              "\n",
              "  // All done.\n",
              "  yield {\n",
              "    response: {\n",
              "      action: 'complete',\n",
              "    }\n",
              "  };\n",
              "}\n",
              "\n",
              "scope.google = scope.google || {};\n",
              "scope.google.colab = scope.google.colab || {};\n",
              "scope.google.colab._files = {\n",
              "  _uploadFiles,\n",
              "  _uploadFilesContinue,\n",
              "};\n",
              "})(self);\n",
              "</script> "
            ]
          },
          "metadata": {}
        },
        {
          "output_type": "stream",
          "name": "stdout",
          "text": [
            "Saving scientists.csv to scientists.csv\n"
          ]
        }
      ],
      "source": [
        "from google.colab import files\n",
        "files.upload();"
      ]
    },
    {
      "cell_type": "code",
      "source": [
        "scientists = pd.read_csv('scientists.csv')"
      ],
      "metadata": {
        "id": "ngkScD4c6G1w"
      },
      "execution_count": 23,
      "outputs": []
    },
    {
      "cell_type": "markdown",
      "source": [
        "이제 불러온 데이터를 통하여, 통계 수치의 결과값을 이용하여 불린 추출을 진행해보겠다."
      ],
      "metadata": {
        "id": "Sm5pWO4Z6Ewv"
      }
    },
    {
      "cell_type": "code",
      "source": [
        "ages = scientists['Age']\n",
        "print(ages.max())\n",
        "print(ages.mean())"
      ],
      "metadata": {
        "id": "vp0Fjkhy6WQv",
        "outputId": "72757a47-1e90-4a16-a837-2b085ed7f277",
        "colab": {
          "base_uri": "https://localhost:8080/"
        }
      },
      "execution_count": 24,
      "outputs": [
        {
          "output_type": "stream",
          "name": "stdout",
          "text": [
            "90\n",
            "59.125\n"
          ]
        }
      ]
    },
    {
      "cell_type": "markdown",
      "source": [
        "이제 불린 추출을 사용할 차례이다. 평균 나이보다 나이가 많은 사람의 데이터를 추출하려면 다음과 같은 code를 실행하면 된다."
      ],
      "metadata": {
        "id": "hjk0FEv66e5E"
      }
    },
    {
      "cell_type": "code",
      "source": [
        "ages[ages>ages.mean()]"
      ],
      "metadata": {
        "id": "K8p7AssR6mFb",
        "outputId": "a31605b8-4def-4dac-e00a-57bf3418a52d",
        "colab": {
          "base_uri": "https://localhost:8080/"
        }
      },
      "execution_count": 25,
      "outputs": [
        {
          "output_type": "execute_result",
          "data": {
            "text/plain": [
              "1    61\n",
              "2    90\n",
              "3    66\n",
              "7    77\n",
              "Name: Age, dtype: int64"
            ]
          },
          "metadata": {},
          "execution_count": 25
        }
      ]
    },
    {
      "cell_type": "markdown",
      "source": [
        "왜 이렇게 출력되는지 알아보기 위해서 `ages>ages.mean()`만 실행하여 보면 다음과 같다."
      ],
      "metadata": {
        "id": "Rvoy_WgF7BT-"
      }
    },
    {
      "cell_type": "code",
      "source": [
        "ages>ages.mean()"
      ],
      "metadata": {
        "id": "pRZyxT-p7JPZ",
        "outputId": "d56c95b0-2bc7-4e8e-89ef-40e78eb82b61",
        "colab": {
          "base_uri": "https://localhost:8080/"
        }
      },
      "execution_count": 27,
      "outputs": [
        {
          "output_type": "execute_result",
          "data": {
            "text/plain": [
              "0    False\n",
              "1     True\n",
              "2     True\n",
              "3     True\n",
              "4    False\n",
              "5    False\n",
              "6    False\n",
              "7     True\n",
              "Name: Age, dtype: bool"
            ]
          },
          "metadata": {},
          "execution_count": 27
        }
      ]
    },
    {
      "cell_type": "markdown",
      "source": [
        "즉, 리스트 형태로 참이나 거짓을 담아 시리즈에 전달하면 참인 인덱스의 데이터만 추출할 수 있다. 바로 이것이 불린 추출이다."
      ],
      "metadata": {
        "id": "MIFJjZ_C61rD"
      }
    },
    {
      "cell_type": "markdown",
      "metadata": {
        "id": "QwP4pjQds-Os"
      },
      "source": [
        "# 시리즈와 브로드캐스팅"
      ]
    },
    {
      "cell_type": "markdown",
      "source": [
        "**Broadcasting(브로드캐스팅)**<br>\n",
        "시리즈나 데이터프레임에 있는 모든 데이터에 대해 한 번에 연산하는 것.\n",
        "- 벡터: 시리즈처럼 여러 개의 값을 가진 데이터.\n",
        "- 스칼라: 단순 크기를 나타내는 데이터\n",
        "<br><br>\n",
        "벡터끼리 더하기 연산과 곱하기 연산이 가능하며 다음과 같이 출력된다."
      ],
      "metadata": {
        "id": "faNHLlkI7Qgw"
      }
    },
    {
      "cell_type": "code",
      "execution_count": 28,
      "metadata": {
        "id": "t1lFC2WDs-Os",
        "outputId": "34fbd16c-5fd5-44b0-8dfd-c903ca240f14",
        "colab": {
          "base_uri": "https://localhost:8080/"
        }
      },
      "outputs": [
        {
          "output_type": "stream",
          "name": "stdout",
          "text": [
            "0    37\n",
            "1    61\n",
            "2    90\n",
            "3    66\n",
            "4    56\n",
            "5    45\n",
            "6    41\n",
            "7    77\n",
            "Name: Age, dtype: int64\n",
            "\n",
            "0     74\n",
            "1    122\n",
            "2    180\n",
            "3    132\n",
            "4    112\n",
            "5     90\n",
            "6     82\n",
            "7    154\n",
            "Name: Age, dtype: int64\n",
            "\n",
            "0    1369\n",
            "1    3721\n",
            "2    8100\n",
            "3    4356\n",
            "4    3136\n",
            "5    2025\n",
            "6    1681\n",
            "7    5929\n",
            "Name: Age, dtype: int64\n"
          ]
        }
      ],
      "source": [
        "print(ages)\n",
        "print(\"\")\n",
        "print(ages+ages)\n",
        "print(\"\")\n",
        "print(ages*ages)"
      ]
    },
    {
      "cell_type": "markdown",
      "source": [
        "시리즈의 크기는 변하지 않는 것을 확인할 수 있다.<br><br>\n",
        "벡터에 스칼라를 연산할 경우는 벡터의 모든 값에 스칼라가 적용되어 브로드캐스팅한 결과가 출력된다."
      ],
      "metadata": {
        "id": "OcxVHWVR8FiI"
      }
    },
    {
      "cell_type": "code",
      "source": [
        "print(ages+100)\n",
        "print(ages*2)"
      ],
      "metadata": {
        "id": "Ux_NbWZz8Tbt",
        "outputId": "1240e235-a0b9-4210-eb04-6b783fad5e2c",
        "colab": {
          "base_uri": "https://localhost:8080/"
        }
      },
      "execution_count": 30,
      "outputs": [
        {
          "output_type": "stream",
          "name": "stdout",
          "text": [
            "0    137\n",
            "1    161\n",
            "2    190\n",
            "3    166\n",
            "4    156\n",
            "5    145\n",
            "6    141\n",
            "7    177\n",
            "Name: Age, dtype: int64\n",
            "0     74\n",
            "1    122\n",
            "2    180\n",
            "3    132\n",
            "4    112\n",
            "5     90\n",
            "6     82\n",
            "7    154\n",
            "Name: Age, dtype: int64\n"
          ]
        }
      ]
    },
    {
      "cell_type": "markdown",
      "source": [
        "길이가 다른 벡터를 연산하면 인덱스가 일치하는 값만 계산한 후 나머지는 결측치로 처리한다."
      ],
      "metadata": {
        "id": "KI5HLYkO8_bh"
      }
    },
    {
      "cell_type": "code",
      "source": [
        "print(pd.Series([1,100]))\n",
        "print(\"\")\n",
        "print(ages + pd.Series([1,100]))"
      ],
      "metadata": {
        "id": "brDla5Hp9FuB",
        "outputId": "b684f493-89b4-4cf6-8cc1-3731b8a941b8",
        "colab": {
          "base_uri": "https://localhost:8080/"
        }
      },
      "execution_count": 34,
      "outputs": [
        {
          "output_type": "stream",
          "name": "stdout",
          "text": [
            "0      1\n",
            "1    100\n",
            "dtype: int64\n",
            "\n",
            "0     38.0\n",
            "1    161.0\n",
            "2      NaN\n",
            "3      NaN\n",
            "4      NaN\n",
            "5      NaN\n",
            "6      NaN\n",
            "7      NaN\n",
            "dtype: float64\n"
          ]
        }
      ]
    },
    {
      "cell_type": "markdown",
      "source": [
        "다음은 sort_index 메서드를 사용하여 본다. ascending인자로 False를 전달하면 `인덱스 기준`으로 내림차순으로 정렬한다."
      ],
      "metadata": {
        "id": "RNdC0FEv9uyH"
      }
    },
    {
      "cell_type": "code",
      "source": [
        "rev_ages = ages.sort_index(ascending=False)\n",
        "rev_ages"
      ],
      "metadata": {
        "id": "yFVzfQzU9-PC",
        "outputId": "b6ffbbc0-719f-4efb-bb06-88605ecf5233",
        "colab": {
          "base_uri": "https://localhost:8080/"
        }
      },
      "execution_count": 36,
      "outputs": [
        {
          "output_type": "execute_result",
          "data": {
            "text/plain": [
              "7    77\n",
              "6    41\n",
              "5    45\n",
              "4    56\n",
              "3    66\n",
              "2    90\n",
              "1    61\n",
              "0    37\n",
              "Name: Age, dtype: int64"
            ]
          },
          "metadata": {},
          "execution_count": 36
        }
      ]
    },
    {
      "cell_type": "markdown",
      "source": [
        "역으로 정렬한 데이터와 원래의 데이터와 더하면 `*2`한 결과와 동일한 결과가 출력된다.<br>\n",
        "이는 연산 시에 동일한 인덱스끼리 연산을 진행하기 때문이다."
      ],
      "metadata": {
        "id": "7qYeLdgP-PSV"
      }
    },
    {
      "cell_type": "code",
      "source": [
        "print(ages + rev_ages)\n",
        "print(ages*2)"
      ],
      "metadata": {
        "id": "4vUE8gPm-fLB",
        "outputId": "27120ddf-19e4-4012-9fee-c4b30f4b55e4",
        "colab": {
          "base_uri": "https://localhost:8080/"
        }
      },
      "execution_count": 37,
      "outputs": [
        {
          "output_type": "stream",
          "name": "stdout",
          "text": [
            "0     74\n",
            "1    122\n",
            "2    180\n",
            "3    132\n",
            "4    112\n",
            "5     90\n",
            "6     82\n",
            "7    154\n",
            "Name: Age, dtype: int64\n",
            "0     74\n",
            "1    122\n",
            "2    180\n",
            "3    132\n",
            "4    112\n",
            "5     90\n",
            "6     82\n",
            "7    154\n",
            "Name: Age, dtype: int64\n"
          ]
        }
      ]
    },
    {
      "cell_type": "markdown",
      "metadata": {
        "id": "CuNw8_Xfs-Os"
      },
      "source": [
        "# 데이터프레임과 불린 추출"
      ]
    },
    {
      "cell_type": "markdown",
      "source": [
        "데이터 프레임도 불린 추출을 할 수 있다. Age열에서 Age열의 평균보다 높은 행만 출력하면 다음과 같다."
      ],
      "metadata": {
        "id": "mvRofeSz-wcj"
      }
    },
    {
      "cell_type": "code",
      "execution_count": 39,
      "metadata": {
        "id": "m4d9uYabs-Ot",
        "outputId": "01d22ee9-7fb9-4de8-8a90-379fc57e30ca",
        "colab": {
          "base_uri": "https://localhost:8080/",
          "height": 175
        }
      },
      "outputs": [
        {
          "output_type": "execute_result",
          "data": {
            "text/plain": [
              "                   Name        Born        Died  Age     Occupation\n",
              "1        William Gosset  1876-06-13  1937-10-16   61   Statistician\n",
              "2  Florence Nightingale  1820-05-12  1910-08-13   90          Nurse\n",
              "3           Marie Curie  1867-11-07  1934-07-04   66        Chemist\n",
              "7          Johann Gauss  1777-04-30  1855-02-23   77  Mathematician"
            ],
            "text/html": [
              "\n",
              "  <div id=\"df-7296a020-5450-4bea-8b5b-65f0e6064ab4\">\n",
              "    <div class=\"colab-df-container\">\n",
              "      <div>\n",
              "<style scoped>\n",
              "    .dataframe tbody tr th:only-of-type {\n",
              "        vertical-align: middle;\n",
              "    }\n",
              "\n",
              "    .dataframe tbody tr th {\n",
              "        vertical-align: top;\n",
              "    }\n",
              "\n",
              "    .dataframe thead th {\n",
              "        text-align: right;\n",
              "    }\n",
              "</style>\n",
              "<table border=\"1\" class=\"dataframe\">\n",
              "  <thead>\n",
              "    <tr style=\"text-align: right;\">\n",
              "      <th></th>\n",
              "      <th>Name</th>\n",
              "      <th>Born</th>\n",
              "      <th>Died</th>\n",
              "      <th>Age</th>\n",
              "      <th>Occupation</th>\n",
              "    </tr>\n",
              "  </thead>\n",
              "  <tbody>\n",
              "    <tr>\n",
              "      <th>1</th>\n",
              "      <td>William Gosset</td>\n",
              "      <td>1876-06-13</td>\n",
              "      <td>1937-10-16</td>\n",
              "      <td>61</td>\n",
              "      <td>Statistician</td>\n",
              "    </tr>\n",
              "    <tr>\n",
              "      <th>2</th>\n",
              "      <td>Florence Nightingale</td>\n",
              "      <td>1820-05-12</td>\n",
              "      <td>1910-08-13</td>\n",
              "      <td>90</td>\n",
              "      <td>Nurse</td>\n",
              "    </tr>\n",
              "    <tr>\n",
              "      <th>3</th>\n",
              "      <td>Marie Curie</td>\n",
              "      <td>1867-11-07</td>\n",
              "      <td>1934-07-04</td>\n",
              "      <td>66</td>\n",
              "      <td>Chemist</td>\n",
              "    </tr>\n",
              "    <tr>\n",
              "      <th>7</th>\n",
              "      <td>Johann Gauss</td>\n",
              "      <td>1777-04-30</td>\n",
              "      <td>1855-02-23</td>\n",
              "      <td>77</td>\n",
              "      <td>Mathematician</td>\n",
              "    </tr>\n",
              "  </tbody>\n",
              "</table>\n",
              "</div>\n",
              "      <button class=\"colab-df-convert\" onclick=\"convertToInteractive('df-7296a020-5450-4bea-8b5b-65f0e6064ab4')\"\n",
              "              title=\"Convert this dataframe to an interactive table.\"\n",
              "              style=\"display:none;\">\n",
              "        \n",
              "  <svg xmlns=\"http://www.w3.org/2000/svg\" height=\"24px\"viewBox=\"0 0 24 24\"\n",
              "       width=\"24px\">\n",
              "    <path d=\"M0 0h24v24H0V0z\" fill=\"none\"/>\n",
              "    <path d=\"M18.56 5.44l.94 2.06.94-2.06 2.06-.94-2.06-.94-.94-2.06-.94 2.06-2.06.94zm-11 1L8.5 8.5l.94-2.06 2.06-.94-2.06-.94L8.5 2.5l-.94 2.06-2.06.94zm10 10l.94 2.06.94-2.06 2.06-.94-2.06-.94-.94-2.06-.94 2.06-2.06.94z\"/><path d=\"M17.41 7.96l-1.37-1.37c-.4-.4-.92-.59-1.43-.59-.52 0-1.04.2-1.43.59L10.3 9.45l-7.72 7.72c-.78.78-.78 2.05 0 2.83L4 21.41c.39.39.9.59 1.41.59.51 0 1.02-.2 1.41-.59l7.78-7.78 2.81-2.81c.8-.78.8-2.07 0-2.86zM5.41 20L4 18.59l7.72-7.72 1.47 1.35L5.41 20z\"/>\n",
              "  </svg>\n",
              "      </button>\n",
              "      \n",
              "  <style>\n",
              "    .colab-df-container {\n",
              "      display:flex;\n",
              "      flex-wrap:wrap;\n",
              "      gap: 12px;\n",
              "    }\n",
              "\n",
              "    .colab-df-convert {\n",
              "      background-color: #E8F0FE;\n",
              "      border: none;\n",
              "      border-radius: 50%;\n",
              "      cursor: pointer;\n",
              "      display: none;\n",
              "      fill: #1967D2;\n",
              "      height: 32px;\n",
              "      padding: 0 0 0 0;\n",
              "      width: 32px;\n",
              "    }\n",
              "\n",
              "    .colab-df-convert:hover {\n",
              "      background-color: #E2EBFA;\n",
              "      box-shadow: 0px 1px 2px rgba(60, 64, 67, 0.3), 0px 1px 3px 1px rgba(60, 64, 67, 0.15);\n",
              "      fill: #174EA6;\n",
              "    }\n",
              "\n",
              "    [theme=dark] .colab-df-convert {\n",
              "      background-color: #3B4455;\n",
              "      fill: #D2E3FC;\n",
              "    }\n",
              "\n",
              "    [theme=dark] .colab-df-convert:hover {\n",
              "      background-color: #434B5C;\n",
              "      box-shadow: 0px 1px 3px 1px rgba(0, 0, 0, 0.15);\n",
              "      filter: drop-shadow(0px 1px 2px rgba(0, 0, 0, 0.3));\n",
              "      fill: #FFFFFF;\n",
              "    }\n",
              "  </style>\n",
              "\n",
              "      <script>\n",
              "        const buttonEl =\n",
              "          document.querySelector('#df-7296a020-5450-4bea-8b5b-65f0e6064ab4 button.colab-df-convert');\n",
              "        buttonEl.style.display =\n",
              "          google.colab.kernel.accessAllowed ? 'block' : 'none';\n",
              "\n",
              "        async function convertToInteractive(key) {\n",
              "          const element = document.querySelector('#df-7296a020-5450-4bea-8b5b-65f0e6064ab4');\n",
              "          const dataTable =\n",
              "            await google.colab.kernel.invokeFunction('convertToInteractive',\n",
              "                                                     [key], {});\n",
              "          if (!dataTable) return;\n",
              "\n",
              "          const docLinkHtml = 'Like what you see? Visit the ' +\n",
              "            '<a target=\"_blank\" href=https://colab.research.google.com/notebooks/data_table.ipynb>data table notebook</a>'\n",
              "            + ' to learn more about interactive tables.';\n",
              "          element.innerHTML = '';\n",
              "          dataTable['output_type'] = 'display_data';\n",
              "          await google.colab.output.renderOutput(dataTable, element);\n",
              "          const docLink = document.createElement('div');\n",
              "          docLink.innerHTML = docLinkHtml;\n",
              "          element.appendChild(docLink);\n",
              "        }\n",
              "      </script>\n",
              "    </div>\n",
              "  </div>\n",
              "  "
            ]
          },
          "metadata": {},
          "execution_count": 39
        }
      ],
      "source": [
        "scientists[scientists['Age']>scientists['Age'].mean()]"
      ]
    },
    {
      "cell_type": "markdown",
      "source": [
        "참, 거짓을 담은 리스트를 bool벡터라고 부른다. 만약 bool벡터의 길이가 데이터프레임의 행 길이보다 짧으면 bool벡터의 길이만큼만 연산한다. 다음 예시로 알아보자."
      ],
      "metadata": {
        "id": "e_FpPmTg_LDu"
      }
    },
    {
      "cell_type": "code",
      "source": [
        "#scientists.loc[[True,True,False,True]]\n",
        "# 책에서는 시행이 되지만 현재는 행의 수와 bool벡터의 수와 같아야 출력된다고 함."
      ],
      "metadata": {
        "id": "C3qEyb99_Zky"
      },
      "execution_count": 42,
      "outputs": []
    },
    {
      "cell_type": "markdown",
      "metadata": {
        "id": "cLjGyYils-Ot"
      },
      "source": [
        "# 데이터프레임과 브로드캐스팅"
      ]
    },
    {
      "cell_type": "markdown",
      "source": [
        "데이터프레임에 스칼라 연산을 적용하면 시리즈와 마찬가지로 모든 데이터에 연산된다."
      ],
      "metadata": {
        "id": "u3jpzBh6AVt6"
      }
    },
    {
      "cell_type": "code",
      "source": [
        "scientists*2"
      ],
      "metadata": {
        "id": "9BOypmpIAbyq",
        "outputId": "80113fe1-fe68-4b49-a597-9a179d1446c8",
        "colab": {
          "base_uri": "https://localhost:8080/",
          "height": 300
        }
      },
      "execution_count": 44,
      "outputs": [
        {
          "output_type": "execute_result",
          "data": {
            "text/plain": [
              "                                       Name                  Born  \\\n",
              "0        Rosaline FranklinRosaline Franklin  1920-07-251920-07-25   \n",
              "1              William GossetWilliam Gosset  1876-06-131876-06-13   \n",
              "2  Florence NightingaleFlorence Nightingale  1820-05-121820-05-12   \n",
              "3                    Marie CurieMarie Curie  1867-11-071867-11-07   \n",
              "4                Rachel CarsonRachel Carson  1907-05-271907-05-27   \n",
              "5                        John SnowJohn Snow  1813-03-151813-03-15   \n",
              "6                    Alan TuringAlan Turing  1912-06-231912-06-23   \n",
              "7                  Johann GaussJohann Gauss  1777-04-301777-04-30   \n",
              "\n",
              "                   Died  Age                            Occupation  \n",
              "0  1958-04-161958-04-16   74                        ChemistChemist  \n",
              "1  1937-10-161937-10-16  122              StatisticianStatistician  \n",
              "2  1910-08-131910-08-13  180                            NurseNurse  \n",
              "3  1934-07-041934-07-04  132                        ChemistChemist  \n",
              "4  1964-04-141964-04-14  112                    BiologistBiologist  \n",
              "5  1858-06-161858-06-16   90                    PhysicianPhysician  \n",
              "6  1954-06-071954-06-07   82  Computer ScientistComputer Scientist  \n",
              "7  1855-02-231855-02-23  154            MathematicianMathematician  "
            ],
            "text/html": [
              "\n",
              "  <div id=\"df-4203344a-d910-47bf-9b48-af83ad908c2f\">\n",
              "    <div class=\"colab-df-container\">\n",
              "      <div>\n",
              "<style scoped>\n",
              "    .dataframe tbody tr th:only-of-type {\n",
              "        vertical-align: middle;\n",
              "    }\n",
              "\n",
              "    .dataframe tbody tr th {\n",
              "        vertical-align: top;\n",
              "    }\n",
              "\n",
              "    .dataframe thead th {\n",
              "        text-align: right;\n",
              "    }\n",
              "</style>\n",
              "<table border=\"1\" class=\"dataframe\">\n",
              "  <thead>\n",
              "    <tr style=\"text-align: right;\">\n",
              "      <th></th>\n",
              "      <th>Name</th>\n",
              "      <th>Born</th>\n",
              "      <th>Died</th>\n",
              "      <th>Age</th>\n",
              "      <th>Occupation</th>\n",
              "    </tr>\n",
              "  </thead>\n",
              "  <tbody>\n",
              "    <tr>\n",
              "      <th>0</th>\n",
              "      <td>Rosaline FranklinRosaline Franklin</td>\n",
              "      <td>1920-07-251920-07-25</td>\n",
              "      <td>1958-04-161958-04-16</td>\n",
              "      <td>74</td>\n",
              "      <td>ChemistChemist</td>\n",
              "    </tr>\n",
              "    <tr>\n",
              "      <th>1</th>\n",
              "      <td>William GossetWilliam Gosset</td>\n",
              "      <td>1876-06-131876-06-13</td>\n",
              "      <td>1937-10-161937-10-16</td>\n",
              "      <td>122</td>\n",
              "      <td>StatisticianStatistician</td>\n",
              "    </tr>\n",
              "    <tr>\n",
              "      <th>2</th>\n",
              "      <td>Florence NightingaleFlorence Nightingale</td>\n",
              "      <td>1820-05-121820-05-12</td>\n",
              "      <td>1910-08-131910-08-13</td>\n",
              "      <td>180</td>\n",
              "      <td>NurseNurse</td>\n",
              "    </tr>\n",
              "    <tr>\n",
              "      <th>3</th>\n",
              "      <td>Marie CurieMarie Curie</td>\n",
              "      <td>1867-11-071867-11-07</td>\n",
              "      <td>1934-07-041934-07-04</td>\n",
              "      <td>132</td>\n",
              "      <td>ChemistChemist</td>\n",
              "    </tr>\n",
              "    <tr>\n",
              "      <th>4</th>\n",
              "      <td>Rachel CarsonRachel Carson</td>\n",
              "      <td>1907-05-271907-05-27</td>\n",
              "      <td>1964-04-141964-04-14</td>\n",
              "      <td>112</td>\n",
              "      <td>BiologistBiologist</td>\n",
              "    </tr>\n",
              "    <tr>\n",
              "      <th>5</th>\n",
              "      <td>John SnowJohn Snow</td>\n",
              "      <td>1813-03-151813-03-15</td>\n",
              "      <td>1858-06-161858-06-16</td>\n",
              "      <td>90</td>\n",
              "      <td>PhysicianPhysician</td>\n",
              "    </tr>\n",
              "    <tr>\n",
              "      <th>6</th>\n",
              "      <td>Alan TuringAlan Turing</td>\n",
              "      <td>1912-06-231912-06-23</td>\n",
              "      <td>1954-06-071954-06-07</td>\n",
              "      <td>82</td>\n",
              "      <td>Computer ScientistComputer Scientist</td>\n",
              "    </tr>\n",
              "    <tr>\n",
              "      <th>7</th>\n",
              "      <td>Johann GaussJohann Gauss</td>\n",
              "      <td>1777-04-301777-04-30</td>\n",
              "      <td>1855-02-231855-02-23</td>\n",
              "      <td>154</td>\n",
              "      <td>MathematicianMathematician</td>\n",
              "    </tr>\n",
              "  </tbody>\n",
              "</table>\n",
              "</div>\n",
              "      <button class=\"colab-df-convert\" onclick=\"convertToInteractive('df-4203344a-d910-47bf-9b48-af83ad908c2f')\"\n",
              "              title=\"Convert this dataframe to an interactive table.\"\n",
              "              style=\"display:none;\">\n",
              "        \n",
              "  <svg xmlns=\"http://www.w3.org/2000/svg\" height=\"24px\"viewBox=\"0 0 24 24\"\n",
              "       width=\"24px\">\n",
              "    <path d=\"M0 0h24v24H0V0z\" fill=\"none\"/>\n",
              "    <path d=\"M18.56 5.44l.94 2.06.94-2.06 2.06-.94-2.06-.94-.94-2.06-.94 2.06-2.06.94zm-11 1L8.5 8.5l.94-2.06 2.06-.94-2.06-.94L8.5 2.5l-.94 2.06-2.06.94zm10 10l.94 2.06.94-2.06 2.06-.94-2.06-.94-.94-2.06-.94 2.06-2.06.94z\"/><path d=\"M17.41 7.96l-1.37-1.37c-.4-.4-.92-.59-1.43-.59-.52 0-1.04.2-1.43.59L10.3 9.45l-7.72 7.72c-.78.78-.78 2.05 0 2.83L4 21.41c.39.39.9.59 1.41.59.51 0 1.02-.2 1.41-.59l7.78-7.78 2.81-2.81c.8-.78.8-2.07 0-2.86zM5.41 20L4 18.59l7.72-7.72 1.47 1.35L5.41 20z\"/>\n",
              "  </svg>\n",
              "      </button>\n",
              "      \n",
              "  <style>\n",
              "    .colab-df-container {\n",
              "      display:flex;\n",
              "      flex-wrap:wrap;\n",
              "      gap: 12px;\n",
              "    }\n",
              "\n",
              "    .colab-df-convert {\n",
              "      background-color: #E8F0FE;\n",
              "      border: none;\n",
              "      border-radius: 50%;\n",
              "      cursor: pointer;\n",
              "      display: none;\n",
              "      fill: #1967D2;\n",
              "      height: 32px;\n",
              "      padding: 0 0 0 0;\n",
              "      width: 32px;\n",
              "    }\n",
              "\n",
              "    .colab-df-convert:hover {\n",
              "      background-color: #E2EBFA;\n",
              "      box-shadow: 0px 1px 2px rgba(60, 64, 67, 0.3), 0px 1px 3px 1px rgba(60, 64, 67, 0.15);\n",
              "      fill: #174EA6;\n",
              "    }\n",
              "\n",
              "    [theme=dark] .colab-df-convert {\n",
              "      background-color: #3B4455;\n",
              "      fill: #D2E3FC;\n",
              "    }\n",
              "\n",
              "    [theme=dark] .colab-df-convert:hover {\n",
              "      background-color: #434B5C;\n",
              "      box-shadow: 0px 1px 3px 1px rgba(0, 0, 0, 0.15);\n",
              "      filter: drop-shadow(0px 1px 2px rgba(0, 0, 0, 0.3));\n",
              "      fill: #FFFFFF;\n",
              "    }\n",
              "  </style>\n",
              "\n",
              "      <script>\n",
              "        const buttonEl =\n",
              "          document.querySelector('#df-4203344a-d910-47bf-9b48-af83ad908c2f button.colab-df-convert');\n",
              "        buttonEl.style.display =\n",
              "          google.colab.kernel.accessAllowed ? 'block' : 'none';\n",
              "\n",
              "        async function convertToInteractive(key) {\n",
              "          const element = document.querySelector('#df-4203344a-d910-47bf-9b48-af83ad908c2f');\n",
              "          const dataTable =\n",
              "            await google.colab.kernel.invokeFunction('convertToInteractive',\n",
              "                                                     [key], {});\n",
              "          if (!dataTable) return;\n",
              "\n",
              "          const docLinkHtml = 'Like what you see? Visit the ' +\n",
              "            '<a target=\"_blank\" href=https://colab.research.google.com/notebooks/data_table.ipynb>data table notebook</a>'\n",
              "            + ' to learn more about interactive tables.';\n",
              "          element.innerHTML = '';\n",
              "          dataTable['output_type'] = 'display_data';\n",
              "          await google.colab.output.renderOutput(dataTable, element);\n",
              "          const docLink = document.createElement('div');\n",
              "          docLink.innerHTML = docLinkHtml;\n",
              "          element.appendChild(docLink);\n",
              "        }\n",
              "      </script>\n",
              "    </div>\n",
              "  </div>\n",
              "  "
            ]
          },
          "metadata": {},
          "execution_count": 44
        }
      ]
    },
    {
      "cell_type": "markdown",
      "metadata": {
        "id": "yTb4K5xEs-Ot"
      },
      "source": [
        "# 열의 자료형 바꾸기와 새로운 열 추가하기"
      ]
    },
    {
      "cell_type": "markdown",
      "source": [
        "이번에는 시리즈와 데이터 프레임에 있는 데이터를 처리하는 방법에 대해 알아보겠다.<br>먼저 Born과 Died열의 자료형을 확인해보겠다."
      ],
      "metadata": {
        "id": "CS5z9iWJAm8V"
      }
    },
    {
      "cell_type": "code",
      "source": [
        "print(scientists['Born'].dtype)\n",
        "print(scientists['Died'].dtype)"
      ],
      "metadata": {
        "id": "bQkQ9UYzAxyT",
        "outputId": "0086c919-72b6-4a60-c043-4dd3a398459c",
        "colab": {
          "base_uri": "https://localhost:8080/"
        }
      },
      "execution_count": 45,
      "outputs": [
        {
          "output_type": "stream",
          "name": "stdout",
          "text": [
            "object\n",
            "object\n"
          ]
        }
      ]
    },
    {
      "cell_type": "markdown",
      "source": [
        "날짜의 경우 시간 관련 작업을 할 수 있도록 datetime자료형으로 바꾸는 것이 좋다.<br><br>\n",
        "자료형을 datetime이라는 자료형으로 바꾼 다음 format속성을 '%Y-%m-%d'로 지정하여 날짜 형식을 지정하여 보도록 하겠다."
      ],
      "metadata": {
        "id": "O_z5DbMaBK13"
      }
    },
    {
      "cell_type": "code",
      "source": [
        "born_datetime = pd.to_datetime(scientists['Born'],format = '%Y-%m-%d')\n",
        "print(born_datetime)\n",
        "\n",
        "died_datetime = pd.to_datetime(scientists['Died'],format = '%Y-%m-%d')\n",
        "print(died_datetime)"
      ],
      "metadata": {
        "id": "fvrFLw21BkIx",
        "outputId": "672b8567-195f-4c31-f570-1b5bc17eea2d",
        "colab": {
          "base_uri": "https://localhost:8080/"
        }
      },
      "execution_count": 47,
      "outputs": [
        {
          "output_type": "stream",
          "name": "stdout",
          "text": [
            "0   1920-07-25\n",
            "1   1876-06-13\n",
            "2   1820-05-12\n",
            "3   1867-11-07\n",
            "4   1907-05-27\n",
            "5   1813-03-15\n",
            "6   1912-06-23\n",
            "7   1777-04-30\n",
            "Name: Born, dtype: datetime64[ns]\n",
            "0   1958-04-16\n",
            "1   1937-10-16\n",
            "2   1910-08-13\n",
            "3   1934-07-04\n",
            "4   1964-04-14\n",
            "5   1858-06-16\n",
            "6   1954-06-07\n",
            "7   1855-02-23\n",
            "Name: Died, dtype: datetime64[ns]\n"
          ]
        }
      ]
    },
    {
      "cell_type": "markdown",
      "source": [
        "이제 데이터 자료형을 바꿨으므로 이를 데이터프레임에 추가하여 보도록하겠다."
      ],
      "metadata": {
        "id": "6wzcsyOpB-et"
      }
    },
    {
      "cell_type": "code",
      "source": [
        "scientists['born_dt'], scientists['died_dt'] = (born_datetime, died_datetime)\n",
        "scientists.head()"
      ],
      "metadata": {
        "id": "M2D9kcGjCIU8",
        "outputId": "c1c6073f-a556-46ac-86f0-6f3f2ad78ac7",
        "colab": {
          "base_uri": "https://localhost:8080/",
          "height": 206
        }
      },
      "execution_count": 48,
      "outputs": [
        {
          "output_type": "execute_result",
          "data": {
            "text/plain": [
              "                   Name        Born        Died  Age    Occupation    born_dt  \\\n",
              "0     Rosaline Franklin  1920-07-25  1958-04-16   37       Chemist 1920-07-25   \n",
              "1        William Gosset  1876-06-13  1937-10-16   61  Statistician 1876-06-13   \n",
              "2  Florence Nightingale  1820-05-12  1910-08-13   90         Nurse 1820-05-12   \n",
              "3           Marie Curie  1867-11-07  1934-07-04   66       Chemist 1867-11-07   \n",
              "4         Rachel Carson  1907-05-27  1964-04-14   56     Biologist 1907-05-27   \n",
              "\n",
              "     died_dt  \n",
              "0 1958-04-16  \n",
              "1 1937-10-16  \n",
              "2 1910-08-13  \n",
              "3 1934-07-04  \n",
              "4 1964-04-14  "
            ],
            "text/html": [
              "\n",
              "  <div id=\"df-f6b77fab-2772-45c4-beea-e4b5f7e069a9\">\n",
              "    <div class=\"colab-df-container\">\n",
              "      <div>\n",
              "<style scoped>\n",
              "    .dataframe tbody tr th:only-of-type {\n",
              "        vertical-align: middle;\n",
              "    }\n",
              "\n",
              "    .dataframe tbody tr th {\n",
              "        vertical-align: top;\n",
              "    }\n",
              "\n",
              "    .dataframe thead th {\n",
              "        text-align: right;\n",
              "    }\n",
              "</style>\n",
              "<table border=\"1\" class=\"dataframe\">\n",
              "  <thead>\n",
              "    <tr style=\"text-align: right;\">\n",
              "      <th></th>\n",
              "      <th>Name</th>\n",
              "      <th>Born</th>\n",
              "      <th>Died</th>\n",
              "      <th>Age</th>\n",
              "      <th>Occupation</th>\n",
              "      <th>born_dt</th>\n",
              "      <th>died_dt</th>\n",
              "    </tr>\n",
              "  </thead>\n",
              "  <tbody>\n",
              "    <tr>\n",
              "      <th>0</th>\n",
              "      <td>Rosaline Franklin</td>\n",
              "      <td>1920-07-25</td>\n",
              "      <td>1958-04-16</td>\n",
              "      <td>37</td>\n",
              "      <td>Chemist</td>\n",
              "      <td>1920-07-25</td>\n",
              "      <td>1958-04-16</td>\n",
              "    </tr>\n",
              "    <tr>\n",
              "      <th>1</th>\n",
              "      <td>William Gosset</td>\n",
              "      <td>1876-06-13</td>\n",
              "      <td>1937-10-16</td>\n",
              "      <td>61</td>\n",
              "      <td>Statistician</td>\n",
              "      <td>1876-06-13</td>\n",
              "      <td>1937-10-16</td>\n",
              "    </tr>\n",
              "    <tr>\n",
              "      <th>2</th>\n",
              "      <td>Florence Nightingale</td>\n",
              "      <td>1820-05-12</td>\n",
              "      <td>1910-08-13</td>\n",
              "      <td>90</td>\n",
              "      <td>Nurse</td>\n",
              "      <td>1820-05-12</td>\n",
              "      <td>1910-08-13</td>\n",
              "    </tr>\n",
              "    <tr>\n",
              "      <th>3</th>\n",
              "      <td>Marie Curie</td>\n",
              "      <td>1867-11-07</td>\n",
              "      <td>1934-07-04</td>\n",
              "      <td>66</td>\n",
              "      <td>Chemist</td>\n",
              "      <td>1867-11-07</td>\n",
              "      <td>1934-07-04</td>\n",
              "    </tr>\n",
              "    <tr>\n",
              "      <th>4</th>\n",
              "      <td>Rachel Carson</td>\n",
              "      <td>1907-05-27</td>\n",
              "      <td>1964-04-14</td>\n",
              "      <td>56</td>\n",
              "      <td>Biologist</td>\n",
              "      <td>1907-05-27</td>\n",
              "      <td>1964-04-14</td>\n",
              "    </tr>\n",
              "  </tbody>\n",
              "</table>\n",
              "</div>\n",
              "      <button class=\"colab-df-convert\" onclick=\"convertToInteractive('df-f6b77fab-2772-45c4-beea-e4b5f7e069a9')\"\n",
              "              title=\"Convert this dataframe to an interactive table.\"\n",
              "              style=\"display:none;\">\n",
              "        \n",
              "  <svg xmlns=\"http://www.w3.org/2000/svg\" height=\"24px\"viewBox=\"0 0 24 24\"\n",
              "       width=\"24px\">\n",
              "    <path d=\"M0 0h24v24H0V0z\" fill=\"none\"/>\n",
              "    <path d=\"M18.56 5.44l.94 2.06.94-2.06 2.06-.94-2.06-.94-.94-2.06-.94 2.06-2.06.94zm-11 1L8.5 8.5l.94-2.06 2.06-.94-2.06-.94L8.5 2.5l-.94 2.06-2.06.94zm10 10l.94 2.06.94-2.06 2.06-.94-2.06-.94-.94-2.06-.94 2.06-2.06.94z\"/><path d=\"M17.41 7.96l-1.37-1.37c-.4-.4-.92-.59-1.43-.59-.52 0-1.04.2-1.43.59L10.3 9.45l-7.72 7.72c-.78.78-.78 2.05 0 2.83L4 21.41c.39.39.9.59 1.41.59.51 0 1.02-.2 1.41-.59l7.78-7.78 2.81-2.81c.8-.78.8-2.07 0-2.86zM5.41 20L4 18.59l7.72-7.72 1.47 1.35L5.41 20z\"/>\n",
              "  </svg>\n",
              "      </button>\n",
              "      \n",
              "  <style>\n",
              "    .colab-df-container {\n",
              "      display:flex;\n",
              "      flex-wrap:wrap;\n",
              "      gap: 12px;\n",
              "    }\n",
              "\n",
              "    .colab-df-convert {\n",
              "      background-color: #E8F0FE;\n",
              "      border: none;\n",
              "      border-radius: 50%;\n",
              "      cursor: pointer;\n",
              "      display: none;\n",
              "      fill: #1967D2;\n",
              "      height: 32px;\n",
              "      padding: 0 0 0 0;\n",
              "      width: 32px;\n",
              "    }\n",
              "\n",
              "    .colab-df-convert:hover {\n",
              "      background-color: #E2EBFA;\n",
              "      box-shadow: 0px 1px 2px rgba(60, 64, 67, 0.3), 0px 1px 3px 1px rgba(60, 64, 67, 0.15);\n",
              "      fill: #174EA6;\n",
              "    }\n",
              "\n",
              "    [theme=dark] .colab-df-convert {\n",
              "      background-color: #3B4455;\n",
              "      fill: #D2E3FC;\n",
              "    }\n",
              "\n",
              "    [theme=dark] .colab-df-convert:hover {\n",
              "      background-color: #434B5C;\n",
              "      box-shadow: 0px 1px 3px 1px rgba(0, 0, 0, 0.15);\n",
              "      filter: drop-shadow(0px 1px 2px rgba(0, 0, 0, 0.3));\n",
              "      fill: #FFFFFF;\n",
              "    }\n",
              "  </style>\n",
              "\n",
              "      <script>\n",
              "        const buttonEl =\n",
              "          document.querySelector('#df-f6b77fab-2772-45c4-beea-e4b5f7e069a9 button.colab-df-convert');\n",
              "        buttonEl.style.display =\n",
              "          google.colab.kernel.accessAllowed ? 'block' : 'none';\n",
              "\n",
              "        async function convertToInteractive(key) {\n",
              "          const element = document.querySelector('#df-f6b77fab-2772-45c4-beea-e4b5f7e069a9');\n",
              "          const dataTable =\n",
              "            await google.colab.kernel.invokeFunction('convertToInteractive',\n",
              "                                                     [key], {});\n",
              "          if (!dataTable) return;\n",
              "\n",
              "          const docLinkHtml = 'Like what you see? Visit the ' +\n",
              "            '<a target=\"_blank\" href=https://colab.research.google.com/notebooks/data_table.ipynb>data table notebook</a>'\n",
              "            + ' to learn more about interactive tables.';\n",
              "          element.innerHTML = '';\n",
              "          dataTable['output_type'] = 'display_data';\n",
              "          await google.colab.output.renderOutput(dataTable, element);\n",
              "          const docLink = document.createElement('div');\n",
              "          docLink.innerHTML = docLinkHtml;\n",
              "          element.appendChild(docLink);\n",
              "        }\n",
              "      </script>\n",
              "    </div>\n",
              "  </div>\n",
              "  "
            ]
          },
          "metadata": {},
          "execution_count": 48
        }
      ]
    },
    {
      "cell_type": "markdown",
      "source": [
        "데이터 프레임에 새로운 columns가 생긴 것을 확인할 수 있다.<br><br>\n",
        "이제 이를 이용해 시간을 계산하여 보겠다. died_dt열에서 born_dt를 빼면 과학자가 얼마 동안 세상을 살다가 떠났는지 계산할 수 있다."
      ],
      "metadata": {
        "id": "PbZXM2BqCg0c"
      }
    },
    {
      "cell_type": "code",
      "source": [
        "scientists['age_days_dt'] =(scientists['died_dt']-scientists['born_dt'])\n",
        "scientists"
      ],
      "metadata": {
        "id": "MW1dvJ4lC1vs",
        "outputId": "23b0ea08-0b8d-42d4-f496-a66069527335",
        "colab": {
          "base_uri": "https://localhost:8080/",
          "height": 300
        }
      },
      "execution_count": 49,
      "outputs": [
        {
          "output_type": "execute_result",
          "data": {
            "text/plain": [
              "                   Name        Born        Died  Age          Occupation  \\\n",
              "0     Rosaline Franklin  1920-07-25  1958-04-16   37             Chemist   \n",
              "1        William Gosset  1876-06-13  1937-10-16   61        Statistician   \n",
              "2  Florence Nightingale  1820-05-12  1910-08-13   90               Nurse   \n",
              "3           Marie Curie  1867-11-07  1934-07-04   66             Chemist   \n",
              "4         Rachel Carson  1907-05-27  1964-04-14   56           Biologist   \n",
              "5             John Snow  1813-03-15  1858-06-16   45           Physician   \n",
              "6           Alan Turing  1912-06-23  1954-06-07   41  Computer Scientist   \n",
              "7          Johann Gauss  1777-04-30  1855-02-23   77       Mathematician   \n",
              "\n",
              "     born_dt    died_dt age_days_dt  \n",
              "0 1920-07-25 1958-04-16  13779 days  \n",
              "1 1876-06-13 1937-10-16  22404 days  \n",
              "2 1820-05-12 1910-08-13  32964 days  \n",
              "3 1867-11-07 1934-07-04  24345 days  \n",
              "4 1907-05-27 1964-04-14  20777 days  \n",
              "5 1813-03-15 1858-06-16  16529 days  \n",
              "6 1912-06-23 1954-06-07  15324 days  \n",
              "7 1777-04-30 1855-02-23  28422 days  "
            ],
            "text/html": [
              "\n",
              "  <div id=\"df-6785c8fe-7db9-4452-9cb1-90fb00352e8d\">\n",
              "    <div class=\"colab-df-container\">\n",
              "      <div>\n",
              "<style scoped>\n",
              "    .dataframe tbody tr th:only-of-type {\n",
              "        vertical-align: middle;\n",
              "    }\n",
              "\n",
              "    .dataframe tbody tr th {\n",
              "        vertical-align: top;\n",
              "    }\n",
              "\n",
              "    .dataframe thead th {\n",
              "        text-align: right;\n",
              "    }\n",
              "</style>\n",
              "<table border=\"1\" class=\"dataframe\">\n",
              "  <thead>\n",
              "    <tr style=\"text-align: right;\">\n",
              "      <th></th>\n",
              "      <th>Name</th>\n",
              "      <th>Born</th>\n",
              "      <th>Died</th>\n",
              "      <th>Age</th>\n",
              "      <th>Occupation</th>\n",
              "      <th>born_dt</th>\n",
              "      <th>died_dt</th>\n",
              "      <th>age_days_dt</th>\n",
              "    </tr>\n",
              "  </thead>\n",
              "  <tbody>\n",
              "    <tr>\n",
              "      <th>0</th>\n",
              "      <td>Rosaline Franklin</td>\n",
              "      <td>1920-07-25</td>\n",
              "      <td>1958-04-16</td>\n",
              "      <td>37</td>\n",
              "      <td>Chemist</td>\n",
              "      <td>1920-07-25</td>\n",
              "      <td>1958-04-16</td>\n",
              "      <td>13779 days</td>\n",
              "    </tr>\n",
              "    <tr>\n",
              "      <th>1</th>\n",
              "      <td>William Gosset</td>\n",
              "      <td>1876-06-13</td>\n",
              "      <td>1937-10-16</td>\n",
              "      <td>61</td>\n",
              "      <td>Statistician</td>\n",
              "      <td>1876-06-13</td>\n",
              "      <td>1937-10-16</td>\n",
              "      <td>22404 days</td>\n",
              "    </tr>\n",
              "    <tr>\n",
              "      <th>2</th>\n",
              "      <td>Florence Nightingale</td>\n",
              "      <td>1820-05-12</td>\n",
              "      <td>1910-08-13</td>\n",
              "      <td>90</td>\n",
              "      <td>Nurse</td>\n",
              "      <td>1820-05-12</td>\n",
              "      <td>1910-08-13</td>\n",
              "      <td>32964 days</td>\n",
              "    </tr>\n",
              "    <tr>\n",
              "      <th>3</th>\n",
              "      <td>Marie Curie</td>\n",
              "      <td>1867-11-07</td>\n",
              "      <td>1934-07-04</td>\n",
              "      <td>66</td>\n",
              "      <td>Chemist</td>\n",
              "      <td>1867-11-07</td>\n",
              "      <td>1934-07-04</td>\n",
              "      <td>24345 days</td>\n",
              "    </tr>\n",
              "    <tr>\n",
              "      <th>4</th>\n",
              "      <td>Rachel Carson</td>\n",
              "      <td>1907-05-27</td>\n",
              "      <td>1964-04-14</td>\n",
              "      <td>56</td>\n",
              "      <td>Biologist</td>\n",
              "      <td>1907-05-27</td>\n",
              "      <td>1964-04-14</td>\n",
              "      <td>20777 days</td>\n",
              "    </tr>\n",
              "    <tr>\n",
              "      <th>5</th>\n",
              "      <td>John Snow</td>\n",
              "      <td>1813-03-15</td>\n",
              "      <td>1858-06-16</td>\n",
              "      <td>45</td>\n",
              "      <td>Physician</td>\n",
              "      <td>1813-03-15</td>\n",
              "      <td>1858-06-16</td>\n",
              "      <td>16529 days</td>\n",
              "    </tr>\n",
              "    <tr>\n",
              "      <th>6</th>\n",
              "      <td>Alan Turing</td>\n",
              "      <td>1912-06-23</td>\n",
              "      <td>1954-06-07</td>\n",
              "      <td>41</td>\n",
              "      <td>Computer Scientist</td>\n",
              "      <td>1912-06-23</td>\n",
              "      <td>1954-06-07</td>\n",
              "      <td>15324 days</td>\n",
              "    </tr>\n",
              "    <tr>\n",
              "      <th>7</th>\n",
              "      <td>Johann Gauss</td>\n",
              "      <td>1777-04-30</td>\n",
              "      <td>1855-02-23</td>\n",
              "      <td>77</td>\n",
              "      <td>Mathematician</td>\n",
              "      <td>1777-04-30</td>\n",
              "      <td>1855-02-23</td>\n",
              "      <td>28422 days</td>\n",
              "    </tr>\n",
              "  </tbody>\n",
              "</table>\n",
              "</div>\n",
              "      <button class=\"colab-df-convert\" onclick=\"convertToInteractive('df-6785c8fe-7db9-4452-9cb1-90fb00352e8d')\"\n",
              "              title=\"Convert this dataframe to an interactive table.\"\n",
              "              style=\"display:none;\">\n",
              "        \n",
              "  <svg xmlns=\"http://www.w3.org/2000/svg\" height=\"24px\"viewBox=\"0 0 24 24\"\n",
              "       width=\"24px\">\n",
              "    <path d=\"M0 0h24v24H0V0z\" fill=\"none\"/>\n",
              "    <path d=\"M18.56 5.44l.94 2.06.94-2.06 2.06-.94-2.06-.94-.94-2.06-.94 2.06-2.06.94zm-11 1L8.5 8.5l.94-2.06 2.06-.94-2.06-.94L8.5 2.5l-.94 2.06-2.06.94zm10 10l.94 2.06.94-2.06 2.06-.94-2.06-.94-.94-2.06-.94 2.06-2.06.94z\"/><path d=\"M17.41 7.96l-1.37-1.37c-.4-.4-.92-.59-1.43-.59-.52 0-1.04.2-1.43.59L10.3 9.45l-7.72 7.72c-.78.78-.78 2.05 0 2.83L4 21.41c.39.39.9.59 1.41.59.51 0 1.02-.2 1.41-.59l7.78-7.78 2.81-2.81c.8-.78.8-2.07 0-2.86zM5.41 20L4 18.59l7.72-7.72 1.47 1.35L5.41 20z\"/>\n",
              "  </svg>\n",
              "      </button>\n",
              "      \n",
              "  <style>\n",
              "    .colab-df-container {\n",
              "      display:flex;\n",
              "      flex-wrap:wrap;\n",
              "      gap: 12px;\n",
              "    }\n",
              "\n",
              "    .colab-df-convert {\n",
              "      background-color: #E8F0FE;\n",
              "      border: none;\n",
              "      border-radius: 50%;\n",
              "      cursor: pointer;\n",
              "      display: none;\n",
              "      fill: #1967D2;\n",
              "      height: 32px;\n",
              "      padding: 0 0 0 0;\n",
              "      width: 32px;\n",
              "    }\n",
              "\n",
              "    .colab-df-convert:hover {\n",
              "      background-color: #E2EBFA;\n",
              "      box-shadow: 0px 1px 2px rgba(60, 64, 67, 0.3), 0px 1px 3px 1px rgba(60, 64, 67, 0.15);\n",
              "      fill: #174EA6;\n",
              "    }\n",
              "\n",
              "    [theme=dark] .colab-df-convert {\n",
              "      background-color: #3B4455;\n",
              "      fill: #D2E3FC;\n",
              "    }\n",
              "\n",
              "    [theme=dark] .colab-df-convert:hover {\n",
              "      background-color: #434B5C;\n",
              "      box-shadow: 0px 1px 3px 1px rgba(0, 0, 0, 0.15);\n",
              "      filter: drop-shadow(0px 1px 2px rgba(0, 0, 0, 0.3));\n",
              "      fill: #FFFFFF;\n",
              "    }\n",
              "  </style>\n",
              "\n",
              "      <script>\n",
              "        const buttonEl =\n",
              "          document.querySelector('#df-6785c8fe-7db9-4452-9cb1-90fb00352e8d button.colab-df-convert');\n",
              "        buttonEl.style.display =\n",
              "          google.colab.kernel.accessAllowed ? 'block' : 'none';\n",
              "\n",
              "        async function convertToInteractive(key) {\n",
              "          const element = document.querySelector('#df-6785c8fe-7db9-4452-9cb1-90fb00352e8d');\n",
              "          const dataTable =\n",
              "            await google.colab.kernel.invokeFunction('convertToInteractive',\n",
              "                                                     [key], {});\n",
              "          if (!dataTable) return;\n",
              "\n",
              "          const docLinkHtml = 'Like what you see? Visit the ' +\n",
              "            '<a target=\"_blank\" href=https://colab.research.google.com/notebooks/data_table.ipynb>data table notebook</a>'\n",
              "            + ' to learn more about interactive tables.';\n",
              "          element.innerHTML = '';\n",
              "          dataTable['output_type'] = 'display_data';\n",
              "          await google.colab.output.renderOutput(dataTable, element);\n",
              "          const docLink = document.createElement('div');\n",
              "          docLink.innerHTML = docLinkHtml;\n",
              "          element.appendChild(docLink);\n",
              "        }\n",
              "      </script>\n",
              "    </div>\n",
              "  </div>\n",
              "  "
            ]
          },
          "metadata": {},
          "execution_count": 49
        }
      ]
    },
    {
      "cell_type": "markdown",
      "metadata": {
        "id": "X6LFwHASs-Ou"
      },
      "source": [
        "# 시리즈, 데이터프레임의 데이터 섞어보기"
      ]
    },
    {
      "cell_type": "markdown",
      "source": [
        "가끔은 데이터를 적당히 섞어야 하는 경우도 있다. 판다스는 시리즈나 데이터프레임의 데이터를 무작위로 섞어볼 수 있다."
      ],
      "metadata": {
        "id": "pwlCaFtCDMb6"
      }
    },
    {
      "cell_type": "code",
      "source": [
        "scientists['Age']"
      ],
      "metadata": {
        "id": "HlyievEEDWBO",
        "outputId": "9d412ff6-07c6-40cc-e39c-f4c74bed6744",
        "colab": {
          "base_uri": "https://localhost:8080/"
        }
      },
      "execution_count": 50,
      "outputs": [
        {
          "output_type": "execute_result",
          "data": {
            "text/plain": [
              "0    37\n",
              "1    61\n",
              "2    90\n",
              "3    66\n",
              "4    56\n",
              "5    45\n",
              "6    41\n",
              "7    77\n",
              "Name: Age, dtype: int64"
            ]
          },
          "metadata": {},
          "execution_count": 50
        }
      ]
    },
    {
      "cell_type": "markdown",
      "source": [
        "위 열을 섞으려면 `random`라이브러리를 불러와야 한다. `random`라이브러리에는 데이터를 섞어주는 shuffle메서드가 있다. 이를 이용하여 섞어보도록 하겠다."
      ],
      "metadata": {
        "id": "dCzimWy7DY7F"
      }
    },
    {
      "cell_type": "code",
      "source": [
        "import random\n",
        "\n",
        "random.seed(42); #seed메서드는 컴퓨터가 생성하는 난수의 기준값을 정하기 위해 사용한다.\n",
        "random.shuffle(scientists['Age']);\n",
        "scientists['Age']"
      ],
      "metadata": {
        "id": "ewt5IabdDsZs",
        "outputId": "30d9eb65-d07a-4812-88a5-6a6b49fe3290",
        "colab": {
          "base_uri": "https://localhost:8080/"
        }
      },
      "execution_count": 53,
      "outputs": [
        {
          "output_type": "execute_result",
          "data": {
            "text/plain": [
              "0    77\n",
              "1    90\n",
              "2    37\n",
              "3    61\n",
              "4    41\n",
              "5    45\n",
              "6    66\n",
              "7    56\n",
              "Name: Age, dtype: int64"
            ]
          },
          "metadata": {},
          "execution_count": 53
        }
      ]
    },
    {
      "cell_type": "markdown",
      "source": [
        "잘 섞여있는 것을 확인할 수 있다."
      ],
      "metadata": {
        "id": "cxGQcyICF62U"
      }
    },
    {
      "cell_type": "markdown",
      "metadata": {
        "id": "mG4KwB98s-Ou"
      },
      "source": [
        "# 데이터프레임의 열 삭제하기"
      ]
    },
    {
      "cell_type": "markdown",
      "source": [
        "때로는 열을 통째로 삭제해야하는 경우도 있다. 먼저 scientists데이터프레임의 열을 확인해 보겠다."
      ],
      "metadata": {
        "id": "HMyG5996ETKu"
      }
    },
    {
      "cell_type": "code",
      "source": [
        "scientists.columns"
      ],
      "metadata": {
        "id": "wDSw1Rf5EgV9",
        "outputId": "c85ce6a3-72ba-44aa-b9f2-91561594a3f8",
        "colab": {
          "base_uri": "https://localhost:8080/"
        }
      },
      "execution_count": 54,
      "outputs": [
        {
          "output_type": "execute_result",
          "data": {
            "text/plain": [
              "Index(['Name', 'Born', 'Died', 'Age', 'Occupation', 'born_dt', 'died_dt',\n",
              "       'age_days_dt'],\n",
              "      dtype='object')"
            ]
          },
          "metadata": {},
          "execution_count": 54
        }
      ]
    },
    {
      "cell_type": "markdown",
      "source": [
        "데이터프레임에서 열을 삭제하려면 데이터프레임의 drop메서드를 사용해야 한다. shuffle메서드로 섞은 Age 열을 삭제해 보겠다.<br>\n",
        "drop메서드의 첫 번째 인자에 열 이름을 리스트에 담아 전달하고 두 번째 인자에는 axis=1을 전달하며 Age열을 삭제할 수 있다."
      ],
      "metadata": {
        "id": "bPmcf0TREkms"
      }
    },
    {
      "cell_type": "code",
      "source": [
        "scientists_dropped = scientists.drop(['Age'], axis=1)\n",
        "scientists_dropped.columns"
      ],
      "metadata": {
        "id": "cIE0jJqsE2yQ",
        "outputId": "e750ce12-0911-44a8-a3c6-d409ea68d941",
        "colab": {
          "base_uri": "https://localhost:8080/"
        }
      },
      "execution_count": 56,
      "outputs": [
        {
          "output_type": "execute_result",
          "data": {
            "text/plain": [
              "Index(['Name', 'Born', 'Died', 'Occupation', 'born_dt', 'died_dt',\n",
              "       'age_days_dt'],\n",
              "      dtype='object')"
            ]
          },
          "metadata": {},
          "execution_count": 56
        }
      ]
    },
    {
      "cell_type": "markdown",
      "source": [
        "`Age`가 삭제된 것을 확인할 수 있다."
      ],
      "metadata": {
        "id": "Msi5OYGZFOHj"
      }
    },
    {
      "cell_type": "markdown",
      "metadata": {
        "id": "MOOnPfH4s-Ou"
      },
      "source": [
        "# 피클 형식으로 저장하기"
      ]
    },
    {
      "cell_type": "markdown",
      "source": [
        "`pickle`은 데이터를 바이너리 형태로 직렬화한 오브젝트를 저장하는 방법이다.<br>\n",
        "피클로 저장하면 스프레드시트보다 더 작은 용량으로 데이터를 저장할 수 있어 매우 편리하다.<br>\n",
        "피클로 저장하기 위해 사용하는 명령어는 `to_pickle`메서드를 사용하면 된다. 이때, 저장 경로를 문자열로 전달한다."
      ],
      "metadata": {
        "id": "zF5jM9lHGRxY"
      }
    },
    {
      "cell_type": "code",
      "execution_count": 60,
      "metadata": {
        "id": "ybjTev_vs-Ou"
      },
      "outputs": [],
      "source": [
        "names = scientists['Name']\n",
        "names.to_pickle('C:\\\\')"
      ]
    },
    {
      "cell_type": "markdown",
      "source": [
        "데이터프레임도 피클로 저장할 수 있다."
      ],
      "metadata": {
        "id": "7xBozxvaG0sJ"
      }
    },
    {
      "cell_type": "code",
      "source": [
        "scientists.to_pickle('C:\\\\2')"
      ],
      "metadata": {
        "id": "wWtk5cmrG2zj"
      },
      "execution_count": 59,
      "outputs": []
    },
    {
      "cell_type": "markdown",
      "source": [
        "피클은 바이너리 형태의 오브젝트이기 때문에 저장된 피클 데이터를 편집기와 같은 프로그램으로 열어보면 이상한 문자가 나타난다. 피클 데이터는 반드시 read_pickle메서드로 읽어 들여야 한다."
      ],
      "metadata": {
        "id": "X251Lx4OHMrD"
      }
    },
    {
      "cell_type": "code",
      "source": [
        "scientists_names_from_pickle = pd.read_pickle(\"C:\\\\\")\n",
        "display(scientists_names_from_pickle)\n",
        "\n",
        "scientists_from_pickle = pd.read_pickle('C:\\\\2')\n",
        "display(scientists_from_pickle)"
      ],
      "metadata": {
        "id": "dDgsZo0SHcaW",
        "outputId": "59a5b289-aa4e-494f-86e1-3030ffdca83c",
        "colab": {
          "base_uri": "https://localhost:8080/",
          "height": 465
        }
      },
      "execution_count": 66,
      "outputs": [
        {
          "output_type": "display_data",
          "data": {
            "text/plain": [
              "0       Rosaline Franklin\n",
              "1          William Gosset\n",
              "2    Florence Nightingale\n",
              "3             Marie Curie\n",
              "4           Rachel Carson\n",
              "5               John Snow\n",
              "6             Alan Turing\n",
              "7            Johann Gauss\n",
              "Name: Name, dtype: object"
            ]
          },
          "metadata": {}
        },
        {
          "output_type": "display_data",
          "data": {
            "text/plain": [
              "                   Name        Born        Died  Age          Occupation  \\\n",
              "0     Rosaline Franklin  1920-07-25  1958-04-16   77             Chemist   \n",
              "1        William Gosset  1876-06-13  1937-10-16   90        Statistician   \n",
              "2  Florence Nightingale  1820-05-12  1910-08-13   37               Nurse   \n",
              "3           Marie Curie  1867-11-07  1934-07-04   61             Chemist   \n",
              "4         Rachel Carson  1907-05-27  1964-04-14   41           Biologist   \n",
              "5             John Snow  1813-03-15  1858-06-16   45           Physician   \n",
              "6           Alan Turing  1912-06-23  1954-06-07   66  Computer Scientist   \n",
              "7          Johann Gauss  1777-04-30  1855-02-23   56       Mathematician   \n",
              "\n",
              "     born_dt    died_dt age_days_dt  \n",
              "0 1920-07-25 1958-04-16  13779 days  \n",
              "1 1876-06-13 1937-10-16  22404 days  \n",
              "2 1820-05-12 1910-08-13  32964 days  \n",
              "3 1867-11-07 1934-07-04  24345 days  \n",
              "4 1907-05-27 1964-04-14  20777 days  \n",
              "5 1813-03-15 1858-06-16  16529 days  \n",
              "6 1912-06-23 1954-06-07  15324 days  \n",
              "7 1777-04-30 1855-02-23  28422 days  "
            ],
            "text/html": [
              "\n",
              "  <div id=\"df-2957430f-8ed7-485a-b796-09adc3120c6b\">\n",
              "    <div class=\"colab-df-container\">\n",
              "      <div>\n",
              "<style scoped>\n",
              "    .dataframe tbody tr th:only-of-type {\n",
              "        vertical-align: middle;\n",
              "    }\n",
              "\n",
              "    .dataframe tbody tr th {\n",
              "        vertical-align: top;\n",
              "    }\n",
              "\n",
              "    .dataframe thead th {\n",
              "        text-align: right;\n",
              "    }\n",
              "</style>\n",
              "<table border=\"1\" class=\"dataframe\">\n",
              "  <thead>\n",
              "    <tr style=\"text-align: right;\">\n",
              "      <th></th>\n",
              "      <th>Name</th>\n",
              "      <th>Born</th>\n",
              "      <th>Died</th>\n",
              "      <th>Age</th>\n",
              "      <th>Occupation</th>\n",
              "      <th>born_dt</th>\n",
              "      <th>died_dt</th>\n",
              "      <th>age_days_dt</th>\n",
              "    </tr>\n",
              "  </thead>\n",
              "  <tbody>\n",
              "    <tr>\n",
              "      <th>0</th>\n",
              "      <td>Rosaline Franklin</td>\n",
              "      <td>1920-07-25</td>\n",
              "      <td>1958-04-16</td>\n",
              "      <td>77</td>\n",
              "      <td>Chemist</td>\n",
              "      <td>1920-07-25</td>\n",
              "      <td>1958-04-16</td>\n",
              "      <td>13779 days</td>\n",
              "    </tr>\n",
              "    <tr>\n",
              "      <th>1</th>\n",
              "      <td>William Gosset</td>\n",
              "      <td>1876-06-13</td>\n",
              "      <td>1937-10-16</td>\n",
              "      <td>90</td>\n",
              "      <td>Statistician</td>\n",
              "      <td>1876-06-13</td>\n",
              "      <td>1937-10-16</td>\n",
              "      <td>22404 days</td>\n",
              "    </tr>\n",
              "    <tr>\n",
              "      <th>2</th>\n",
              "      <td>Florence Nightingale</td>\n",
              "      <td>1820-05-12</td>\n",
              "      <td>1910-08-13</td>\n",
              "      <td>37</td>\n",
              "      <td>Nurse</td>\n",
              "      <td>1820-05-12</td>\n",
              "      <td>1910-08-13</td>\n",
              "      <td>32964 days</td>\n",
              "    </tr>\n",
              "    <tr>\n",
              "      <th>3</th>\n",
              "      <td>Marie Curie</td>\n",
              "      <td>1867-11-07</td>\n",
              "      <td>1934-07-04</td>\n",
              "      <td>61</td>\n",
              "      <td>Chemist</td>\n",
              "      <td>1867-11-07</td>\n",
              "      <td>1934-07-04</td>\n",
              "      <td>24345 days</td>\n",
              "    </tr>\n",
              "    <tr>\n",
              "      <th>4</th>\n",
              "      <td>Rachel Carson</td>\n",
              "      <td>1907-05-27</td>\n",
              "      <td>1964-04-14</td>\n",
              "      <td>41</td>\n",
              "      <td>Biologist</td>\n",
              "      <td>1907-05-27</td>\n",
              "      <td>1964-04-14</td>\n",
              "      <td>20777 days</td>\n",
              "    </tr>\n",
              "    <tr>\n",
              "      <th>5</th>\n",
              "      <td>John Snow</td>\n",
              "      <td>1813-03-15</td>\n",
              "      <td>1858-06-16</td>\n",
              "      <td>45</td>\n",
              "      <td>Physician</td>\n",
              "      <td>1813-03-15</td>\n",
              "      <td>1858-06-16</td>\n",
              "      <td>16529 days</td>\n",
              "    </tr>\n",
              "    <tr>\n",
              "      <th>6</th>\n",
              "      <td>Alan Turing</td>\n",
              "      <td>1912-06-23</td>\n",
              "      <td>1954-06-07</td>\n",
              "      <td>66</td>\n",
              "      <td>Computer Scientist</td>\n",
              "      <td>1912-06-23</td>\n",
              "      <td>1954-06-07</td>\n",
              "      <td>15324 days</td>\n",
              "    </tr>\n",
              "    <tr>\n",
              "      <th>7</th>\n",
              "      <td>Johann Gauss</td>\n",
              "      <td>1777-04-30</td>\n",
              "      <td>1855-02-23</td>\n",
              "      <td>56</td>\n",
              "      <td>Mathematician</td>\n",
              "      <td>1777-04-30</td>\n",
              "      <td>1855-02-23</td>\n",
              "      <td>28422 days</td>\n",
              "    </tr>\n",
              "  </tbody>\n",
              "</table>\n",
              "</div>\n",
              "      <button class=\"colab-df-convert\" onclick=\"convertToInteractive('df-2957430f-8ed7-485a-b796-09adc3120c6b')\"\n",
              "              title=\"Convert this dataframe to an interactive table.\"\n",
              "              style=\"display:none;\">\n",
              "        \n",
              "  <svg xmlns=\"http://www.w3.org/2000/svg\" height=\"24px\"viewBox=\"0 0 24 24\"\n",
              "       width=\"24px\">\n",
              "    <path d=\"M0 0h24v24H0V0z\" fill=\"none\"/>\n",
              "    <path d=\"M18.56 5.44l.94 2.06.94-2.06 2.06-.94-2.06-.94-.94-2.06-.94 2.06-2.06.94zm-11 1L8.5 8.5l.94-2.06 2.06-.94-2.06-.94L8.5 2.5l-.94 2.06-2.06.94zm10 10l.94 2.06.94-2.06 2.06-.94-2.06-.94-.94-2.06-.94 2.06-2.06.94z\"/><path d=\"M17.41 7.96l-1.37-1.37c-.4-.4-.92-.59-1.43-.59-.52 0-1.04.2-1.43.59L10.3 9.45l-7.72 7.72c-.78.78-.78 2.05 0 2.83L4 21.41c.39.39.9.59 1.41.59.51 0 1.02-.2 1.41-.59l7.78-7.78 2.81-2.81c.8-.78.8-2.07 0-2.86zM5.41 20L4 18.59l7.72-7.72 1.47 1.35L5.41 20z\"/>\n",
              "  </svg>\n",
              "      </button>\n",
              "      \n",
              "  <style>\n",
              "    .colab-df-container {\n",
              "      display:flex;\n",
              "      flex-wrap:wrap;\n",
              "      gap: 12px;\n",
              "    }\n",
              "\n",
              "    .colab-df-convert {\n",
              "      background-color: #E8F0FE;\n",
              "      border: none;\n",
              "      border-radius: 50%;\n",
              "      cursor: pointer;\n",
              "      display: none;\n",
              "      fill: #1967D2;\n",
              "      height: 32px;\n",
              "      padding: 0 0 0 0;\n",
              "      width: 32px;\n",
              "    }\n",
              "\n",
              "    .colab-df-convert:hover {\n",
              "      background-color: #E2EBFA;\n",
              "      box-shadow: 0px 1px 2px rgba(60, 64, 67, 0.3), 0px 1px 3px 1px rgba(60, 64, 67, 0.15);\n",
              "      fill: #174EA6;\n",
              "    }\n",
              "\n",
              "    [theme=dark] .colab-df-convert {\n",
              "      background-color: #3B4455;\n",
              "      fill: #D2E3FC;\n",
              "    }\n",
              "\n",
              "    [theme=dark] .colab-df-convert:hover {\n",
              "      background-color: #434B5C;\n",
              "      box-shadow: 0px 1px 3px 1px rgba(0, 0, 0, 0.15);\n",
              "      filter: drop-shadow(0px 1px 2px rgba(0, 0, 0, 0.3));\n",
              "      fill: #FFFFFF;\n",
              "    }\n",
              "  </style>\n",
              "\n",
              "      <script>\n",
              "        const buttonEl =\n",
              "          document.querySelector('#df-2957430f-8ed7-485a-b796-09adc3120c6b button.colab-df-convert');\n",
              "        buttonEl.style.display =\n",
              "          google.colab.kernel.accessAllowed ? 'block' : 'none';\n",
              "\n",
              "        async function convertToInteractive(key) {\n",
              "          const element = document.querySelector('#df-2957430f-8ed7-485a-b796-09adc3120c6b');\n",
              "          const dataTable =\n",
              "            await google.colab.kernel.invokeFunction('convertToInteractive',\n",
              "                                                     [key], {});\n",
              "          if (!dataTable) return;\n",
              "\n",
              "          const docLinkHtml = 'Like what you see? Visit the ' +\n",
              "            '<a target=\"_blank\" href=https://colab.research.google.com/notebooks/data_table.ipynb>data table notebook</a>'\n",
              "            + ' to learn more about interactive tables.';\n",
              "          element.innerHTML = '';\n",
              "          dataTable['output_type'] = 'display_data';\n",
              "          await google.colab.output.renderOutput(dataTable, element);\n",
              "          const docLink = document.createElement('div');\n",
              "          docLink.innerHTML = docLinkHtml;\n",
              "          element.appendChild(docLink);\n",
              "        }\n",
              "      </script>\n",
              "    </div>\n",
              "  </div>\n",
              "  "
            ]
          },
          "metadata": {}
        }
      ]
    },
    {
      "cell_type": "markdown",
      "metadata": {
        "id": "zjl4NArXs-Ov"
      },
      "source": [
        "# CSV 불러오기"
      ]
    },
    {
      "cell_type": "markdown",
      "source": [
        "`CSV`파일은 데이터를 쉼표로 구분하여 저장한 파일이고, `TSV`파일은 데이터를 탭으로 구분하여 저장한 파일이다. 두 파일 모두 텍스트 편집기(ex.메모장)로 살펴볼 수 있다.<br><br>\n",
        "`to_csv`메서드로 시리즈와 데이터프레임을 CSV파일로 저장할 수 있다.<br>\n",
        "이때, seq 인자를 추가하여 '\\t`를 지정하고 파일의 확장자를 '.tsv'로 지정하면 TSV파일로 저장할 수 있다."
      ],
      "metadata": {
        "id": "kGZ9BOD4IYPP"
      }
    },
    {
      "cell_type": "code",
      "source": [
        "#예시 코드\n",
        "names.to_csv(\"C:\\\\3\")\n",
        "scientists.to_csv('C:\\\\4',sep = '\\t')"
      ],
      "metadata": {
        "id": "lhPskrRXJMLo"
      },
      "execution_count": 67,
      "outputs": []
    },
    {
      "cell_type": "markdown",
      "source": [
        "# 알아두면 좋아요!"
      ],
      "metadata": {
        "id": "vv-HYFDxJeK6"
      }
    },
    {
      "cell_type": "markdown",
      "source": [
        "- **시리즈와 데이터프레임을 엑셀 파일로 저장하기**"
      ],
      "metadata": {
        "id": "6pz81vOOJgpx"
      }
    },
    {
      "cell_type": "markdown",
      "source": [
        "시리즈는 엑셀 구조와 맞지 않기 때문에 엑셀 파일로 저장할 수 없다. 엑셀 파일로 저장할 수 있는 데이터프레임으로 변환해야한다. 물론 데이터프레임은 엑셀 파일로 바로 저장할 수 있다.<br>\n",
        "단, xls파일로 저장하기 위해선 xlwt라이브러리가 필요하고, xlsx 파일로 저장하려면 openpyxl라이브러가 필요하다. 이 라이브러리를 추가적으로 설치할 경우 다음 Code를 입력하여 실행하면된다."
      ],
      "metadata": {
        "id": "Kvh08uzqJopc"
      }
    },
    {
      "cell_type": "code",
      "source": [
        "#pip install xlwt\n",
        "#pip install openpyxl"
      ],
      "metadata": {
        "id": "xUeM1LzbK1DN"
      },
      "execution_count": null,
      "outputs": []
    },
    {
      "cell_type": "markdown",
      "source": [
        "시리즈는 `to_frame`이라는 메서드를 사용해 데이터프레임으로 변환한 다음 엑셀 파일로 저장해야 한다. 다음 code는 시리즈를 데이터프레임으로 변환 후 엑셀파일로 저장한 것이다."
      ],
      "metadata": {
        "id": "nMiGUuvKK64s"
      }
    },
    {
      "cell_type": "code",
      "source": [
        "names_df = names.to_frame()\n",
        "\n",
        "import xlwt\n",
        "names_df.to_excel('C:\\\\5')\n",
        "\n",
        "import openpyxl\n",
        "names_df.to_excel('C:\\\\6')"
      ],
      "metadata": {
        "id": "mULt32B0LGBi"
      },
      "execution_count": 70,
      "outputs": []
    }
  ],
  "metadata": {
    "kernelspec": {
      "display_name": "Python 3",
      "language": "python",
      "name": "python3"
    },
    "language_info": {
      "codemirror_mode": {
        "name": "ipython",
        "version": 3
      },
      "file_extension": ".py",
      "mimetype": "text/x-python",
      "name": "python",
      "nbconvert_exporter": "python",
      "pygments_lexer": "ipython3",
      "version": "3.6.5"
    },
    "colab": {
      "provenance": [],
      "toc_visible": true,
      "include_colab_link": true
    }
  },
  "nbformat": 4,
  "nbformat_minor": 0
}