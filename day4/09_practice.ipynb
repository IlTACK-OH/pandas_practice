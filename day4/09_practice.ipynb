{
  "cells": [
    {
      "cell_type": "markdown",
      "metadata": {
        "id": "view-in-github",
        "colab_type": "text"
      },
      "source": [
        "<a href=\"https://colab.research.google.com/github/IlTACK-OH/pandas_practice/blob/main/day4/09_practice.ipynb\" target=\"_parent\"><img src=\"https://colab.research.google.com/assets/colab-badge.svg\" alt=\"Open In Colab\"/></a>"
      ]
    },
    {
      "cell_type": "markdown",
      "metadata": {
        "id": "gDY3QdaViumz"
      },
      "source": [
        "# 문자열 추출하기"
      ]
    },
    {
      "cell_type": "code",
      "execution_count": 2,
      "metadata": {
        "id": "ElRBRfTqium2",
        "outputId": "96348c6e-b83c-4cfc-eb09-6c5f8e1dfee8",
        "colab": {
          "base_uri": "https://localhost:8080/"
        }
      },
      "outputs": [
        {
          "output_type": "stream",
          "name": "stdout",
          "text": [
            "g\n",
            "a\n"
          ]
        }
      ],
      "source": [
        "word = 'grail'\n",
        "sent = 'a scratch'\n",
        "\n",
        "print(word[0])\n",
        "print(sent[0])"
      ]
    },
    {
      "cell_type": "markdown",
      "source": [
        "이번에는 인덱스 슬라이싱을 사용하면 여러 개의 문자를 한 번에 추출할 수 있다. "
      ],
      "metadata": {
        "id": "9i9In1Mojlgv"
      }
    },
    {
      "cell_type": "code",
      "source": [
        "word[0:3]"
      ],
      "metadata": {
        "id": "BsSCEfbsjtrc",
        "outputId": "e4f252d0-1ad0-4a0c-8aa6-0c642b2107e0",
        "colab": {
          "base_uri": "https://localhost:8080/",
          "height": 35
        }
      },
      "execution_count": 3,
      "outputs": [
        {
          "output_type": "execute_result",
          "data": {
            "text/plain": [
              "'gra'"
            ],
            "application/vnd.google.colaboratory.intrinsic+json": {
              "type": "string"
            }
          },
          "metadata": {},
          "execution_count": 3
        }
      ]
    },
    {
      "cell_type": "markdown",
      "source": [
        "음수를 사용해도 문자열을 추출할 수 있다.<br>\n",
        "만약 인덱스를 -1로 지정하여 문자열을 추출하면 마지막 문자가 추출된다."
      ],
      "metadata": {
        "id": "M7GIJAVVjwE0"
      }
    },
    {
      "cell_type": "code",
      "source": [
        "print(sent[-1])\n",
        "print(sent[-9:-8])\n",
        "print(sent[0:-8])"
      ],
      "metadata": {
        "id": "toqpyEpQj7EH",
        "outputId": "e30e9f93-5103-4ef9-8c37-0886cbe19a7c",
        "colab": {
          "base_uri": "https://localhost:8080/"
        }
      },
      "execution_count": 5,
      "outputs": [
        {
          "output_type": "stream",
          "name": "stdout",
          "text": [
            "h\n",
            "a\n",
            "a\n"
          ]
        }
      ]
    },
    {
      "cell_type": "markdown",
      "source": [
        "문자열의 마지막 문자를 추출할 떄는 `-1`을 사용하면 된다.<br>\n",
        "하지만 전체 문자열을 추찰하기 위해서 [0:-1]을 사용하면 문자는 추출되지 않는다.<br>왜냐하면 슬라이싱의 오른쪽 범위로 지정한 값은 문자열에서 제외되기 때문이다.<br>\n",
        "이때는 `len`메서드를 사용하여 문자열의 길이를 오른쪽 범위로 지정하면 된다."
      ],
      "metadata": {
        "id": "o0Nkd0AskMzE"
      }
    },
    {
      "cell_type": "code",
      "source": [
        "print(sent[2:-1])\n",
        "print(sent[-7:-1])\n",
        "s_len = len(sent)\n",
        "print(s_len)\n",
        "print(sent[2:s_len])"
      ],
      "metadata": {
        "id": "hCI0Zks9nkIS",
        "outputId": "ab4759d4-9e0a-42c6-fe27-9f47200844ed",
        "colab": {
          "base_uri": "https://localhost:8080/"
        }
      },
      "execution_count": 8,
      "outputs": [
        {
          "output_type": "stream",
          "name": "stdout",
          "text": [
            "scratc\n",
            "scratc\n",
            "9\n",
            "scratch\n"
          ]
        }
      ]
    },
    {
      "cell_type": "markdown",
      "metadata": {
        "id": "vNh1F2HFium3"
      },
      "source": [
        "# 왼쪽이나 오른쪽 범위를 지정하지 않고 문자열 추출하기"
      ]
    },
    {
      "cell_type": "code",
      "execution_count": 11,
      "metadata": {
        "id": "w94wRBI2ium3",
        "outputId": "091264c6-691e-4592-fac2-8bb1af6480be",
        "colab": {
          "base_uri": "https://localhost:8080/"
        }
      },
      "outputs": [
        {
          "output_type": "stream",
          "name": "stdout",
          "text": [
            "gra\n",
            "gra\n",
            "scratch\n",
            "scratch\n",
            "a scratch\n",
            "asrth\n"
          ]
        }
      ],
      "source": [
        "# 왼쪽 범위를 비우고 문자열을 추출\n",
        "print(word[0:3])\n",
        "print(word[:3])\n",
        "\n",
        "# 오른쪽 범위를 비우고 문자열을 추출\n",
        "print(sent[2:len(sent)])\n",
        "print(sent[2:])\n",
        "\n",
        "# 양쪽을 모두 비우고 문자열을 추출 - 전체 문자열\n",
        "print(sent[:])\n",
        "\n",
        "# 문자열을 일정한 간격으로 건너뛰며 추출할 경우 \n",
        "# 자신을 포함하여 거리가 2인 인덱스의 문자를 추출\n",
        "print(sent[::2])"
      ]
    },
    {
      "cell_type": "markdown",
      "source": [
        "# 문자열 메서드"
      ],
      "metadata": {
        "id": "lTosoPdBtLyE"
      }
    },
    {
      "cell_type": "code",
      "source": [
        "\"black Knight\".capitalize()"
      ],
      "metadata": {
        "id": "JnrBpE3xrj-3",
        "outputId": "35abedd7-a7a8-43b5-81dc-321ac966dc07",
        "colab": {
          "base_uri": "https://localhost:8080/",
          "height": 35
        }
      },
      "execution_count": 12,
      "outputs": [
        {
          "output_type": "execute_result",
          "data": {
            "text/plain": [
              "'Black knight'"
            ],
            "application/vnd.google.colaboratory.intrinsic+json": {
              "type": "string"
            }
          },
          "metadata": {},
          "execution_count": 12
        }
      ]
    },
    {
      "cell_type": "markdown",
      "source": [
        ">**`count`**: 문자열의 개수를 반환한다.<br>"
      ],
      "metadata": {
        "id": "GpXRRLOirqWK"
      }
    },
    {
      "cell_type": "code",
      "source": [
        "\"It's just a flesh wound!\".count('u')"
      ],
      "metadata": {
        "id": "vu_Z8lLFruNE",
        "outputId": "08294d88-fda6-4afd-b97f-7fbfec1cb89d",
        "colab": {
          "base_uri": "https://localhost:8080/"
        }
      },
      "execution_count": 13,
      "outputs": [
        {
          "output_type": "execute_result",
          "data": {
            "text/plain": [
              "2"
            ]
          },
          "metadata": {},
          "execution_count": 13
        }
      ]
    },
    {
      "cell_type": "markdown",
      "source": [
        ">**`startswitch`**: 문자열이 특정 문자로 시작하면 참이 된다."
      ],
      "metadata": {
        "id": "qv77pRSEr4FF"
      }
    },
    {
      "cell_type": "code",
      "source": [
        "\"Halt! Who goes there?\".startswith('Halt')"
      ],
      "metadata": {
        "id": "nNh-WKc5r6Wu",
        "outputId": "019c40d8-f103-408c-b37c-9b57c22fd072",
        "colab": {
          "base_uri": "https://localhost:8080/"
        }
      },
      "execution_count": 16,
      "outputs": [
        {
          "output_type": "execute_result",
          "data": {
            "text/plain": [
              "True"
            ]
          },
          "metadata": {},
          "execution_count": 16
        }
      ]
    },
    {
      "cell_type": "markdown",
      "source": [
        ">**`endswitch`**: 문자열이 특정 문자로 끝나면 참이 된다.<br>"
      ],
      "metadata": {
        "id": "ji2HHGnmsOpk"
      }
    },
    {
      "cell_type": "code",
      "source": [
        "'cocount'.endswith('nut')"
      ],
      "metadata": {
        "id": "GuNLGZ8tsR8L",
        "outputId": "b25d63e9-f904-497f-e381-c83292722626",
        "colab": {
          "base_uri": "https://localhost:8080/"
        }
      },
      "execution_count": 17,
      "outputs": [
        {
          "output_type": "execute_result",
          "data": {
            "text/plain": [
              "False"
            ]
          },
          "metadata": {},
          "execution_count": 17
        }
      ]
    },
    {
      "cell_type": "markdown",
      "source": [
        "> **`find`**: 찾을 문자열의 첫 번째 인덱스를 반환한다. 실패 시 -1을 반환."
      ],
      "metadata": {
        "id": "tZQgvY8Zsayl"
      }
    },
    {
      "cell_type": "code",
      "source": [
        "\"It's just a flesh wound!\".find('u')"
      ],
      "metadata": {
        "id": "LLYzROPoshuM",
        "outputId": "28f5f707-f864-42b5-ed66-56db8ef380a5",
        "colab": {
          "base_uri": "https://localhost:8080/"
        }
      },
      "execution_count": 18,
      "outputs": [
        {
          "output_type": "execute_result",
          "data": {
            "text/plain": [
              "6"
            ]
          },
          "metadata": {},
          "execution_count": 18
        }
      ]
    },
    {
      "cell_type": "markdown",
      "source": [
        "> **`index`**: `find`메서드와 같은 역할을 수행하지만 실패 시 ValueError를 반환한다."
      ],
      "metadata": {
        "id": "88kCO_chsn41"
      }
    },
    {
      "cell_type": "code",
      "source": [
        "\"It's just a flesh wound!\".index('scratch')"
      ],
      "metadata": {
        "id": "L5RPBlp-stEy",
        "outputId": "abf9d3ef-e1ca-4abb-a267-ca1a296db524",
        "colab": {
          "base_uri": "https://localhost:8080/",
          "height": 174
        }
      },
      "execution_count": 19,
      "outputs": [
        {
          "output_type": "error",
          "ename": "ValueError",
          "evalue": "ignored",
          "traceback": [
            "\u001b[0;31m---------------------------------------------------------------------------\u001b[0m",
            "\u001b[0;31mValueError\u001b[0m                                Traceback (most recent call last)",
            "\u001b[0;32m<ipython-input-19-1e9e0bfd509f>\u001b[0m in \u001b[0;36m<module>\u001b[0;34m\u001b[0m\n\u001b[0;32m----> 1\u001b[0;31m \u001b[0;34m\"It's just a flesh wound!\"\u001b[0m\u001b[0;34m.\u001b[0m\u001b[0mindex\u001b[0m\u001b[0;34m(\u001b[0m\u001b[0;34m'scratch'\u001b[0m\u001b[0;34m)\u001b[0m\u001b[0;34m\u001b[0m\u001b[0;34m\u001b[0m\u001b[0m\n\u001b[0m",
            "\u001b[0;31mValueError\u001b[0m: substring not found"
          ]
        }
      ]
    },
    {
      "cell_type": "markdown",
      "source": [
        "> **`isalpha`**: 모든 문자가 알파벳이면 참이다."
      ],
      "metadata": {
        "id": "8S9cKBYys5RP"
      }
    },
    {
      "cell_type": "code",
      "source": [
        "\"old woman\".isalpha()"
      ],
      "metadata": {
        "id": "IV6Xx0Mbs9dR",
        "outputId": "8c80c9d7-ff2f-4e06-fbba-52b751a1838e",
        "colab": {
          "base_uri": "https://localhost:8080/"
        }
      },
      "execution_count": 20,
      "outputs": [
        {
          "output_type": "execute_result",
          "data": {
            "text/plain": [
              "False"
            ]
          },
          "metadata": {},
          "execution_count": 20
        }
      ]
    },
    {
      "cell_type": "markdown",
      "source": [
        "> **`isdecimal`**: 모든 문자가 알파벳이거나 숫자면 참이다."
      ],
      "metadata": {
        "id": "Hecy7h33tBoZ"
      }
    },
    {
      "cell_type": "code",
      "source": [
        "\"37\".isdecimal()"
      ],
      "metadata": {
        "id": "6HOxw9g5tEjb",
        "outputId": "bc071760-7829-40cc-ca3b-1203550b9075",
        "colab": {
          "base_uri": "https://localhost:8080/"
        }
      },
      "execution_count": 21,
      "outputs": [
        {
          "output_type": "execute_result",
          "data": {
            "text/plain": [
              "True"
            ]
          },
          "metadata": {},
          "execution_count": 21
        }
      ]
    },
    {
      "cell_type": "markdown",
      "source": [
        "> **`isalnum`**: 모든 문자가 알파벳이거나 숫자면 참이다."
      ],
      "metadata": {
        "id": "VSbb3oOhtO8-"
      }
    },
    {
      "cell_type": "code",
      "source": [
        "\"I'm 37\".isalnum()"
      ],
      "metadata": {
        "id": "Q5zMiJs6tQUr",
        "outputId": "2ca18881-ed9f-4665-9f93-fadb296d37c3",
        "colab": {
          "base_uri": "https://localhost:8080/"
        }
      },
      "execution_count": 22,
      "outputs": [
        {
          "output_type": "execute_result",
          "data": {
            "text/plain": [
              "False"
            ]
          },
          "metadata": {},
          "execution_count": 22
        }
      ]
    },
    {
      "cell_type": "markdown",
      "source": [
        "> **`lower`**: 모든 문자를 소문자로 변환.<br>"
      ],
      "metadata": {
        "id": "_7QwmR7WtZCG"
      }
    },
    {
      "cell_type": "code",
      "source": [
        "\"Black Knight\".lower()"
      ],
      "metadata": {
        "id": "jUc-Sly5tjhG",
        "outputId": "1561492d-7328-4178-8c28-d32a39c66086",
        "colab": {
          "base_uri": "https://localhost:8080/",
          "height": 35
        }
      },
      "execution_count": 23,
      "outputs": [
        {
          "output_type": "execute_result",
          "data": {
            "text/plain": [
              "'black knight'"
            ],
            "application/vnd.google.colaboratory.intrinsic+json": {
              "type": "string"
            }
          },
          "metadata": {},
          "execution_count": 23
        }
      ]
    },
    {
      "cell_type": "markdown",
      "source": [
        "> **`upper`**: 모든 문자를 대문자로 변환."
      ],
      "metadata": {
        "id": "ao-2uZI0tn9T"
      }
    },
    {
      "cell_type": "code",
      "source": [
        "\"Black Knight\".upper()"
      ],
      "metadata": {
        "id": "mmdhLl-UtqQ5",
        "outputId": "674d707c-e629-4e9b-c72f-00930a602148",
        "colab": {
          "base_uri": "https://localhost:8080/",
          "height": 35
        }
      },
      "execution_count": 24,
      "outputs": [
        {
          "output_type": "execute_result",
          "data": {
            "text/plain": [
              "'BLACK KNIGHT'"
            ],
            "application/vnd.google.colaboratory.intrinsic+json": {
              "type": "string"
            }
          },
          "metadata": {},
          "execution_count": 24
        }
      ]
    },
    {
      "cell_type": "markdown",
      "source": [
        "> **`replace`**: 문자열의 문자를 다른 문자로 교체한다."
      ],
      "metadata": {
        "id": "sa5w15o3t04n"
      }
    },
    {
      "cell_type": "code",
      "source": [
        "\"flesh wound!\".replace('flesh wound','scratch')"
      ],
      "metadata": {
        "id": "m8A4e6Jdt8BB",
        "outputId": "9c25edde-b352-480f-b334-b11fb3d4cffb",
        "colab": {
          "base_uri": "https://localhost:8080/",
          "height": 35
        }
      },
      "execution_count": 25,
      "outputs": [
        {
          "output_type": "execute_result",
          "data": {
            "text/plain": [
              "'scratch!'"
            ],
            "application/vnd.google.colaboratory.intrinsic+json": {
              "type": "string"
            }
          },
          "metadata": {},
          "execution_count": 25
        }
      ]
    },
    {
      "cell_type": "markdown",
      "source": [
        "> **`strip`**: 문자열의 맨 앞과 맨 뒤에 있는 빈 칸을 제거한다."
      ],
      "metadata": {
        "id": "SsLIIVfAuFzl"
      }
    },
    {
      "cell_type": "code",
      "source": [
        "\" I'm not dead. \".strip()"
      ],
      "metadata": {
        "id": "KRmdn8veuQK8",
        "outputId": "3847420d-1e8d-4ca5-acc2-c5e3277f794e",
        "colab": {
          "base_uri": "https://localhost:8080/",
          "height": 35
        }
      },
      "execution_count": 26,
      "outputs": [
        {
          "output_type": "execute_result",
          "data": {
            "text/plain": [
              "\"I'm not dead.\""
            ],
            "application/vnd.google.colaboratory.intrinsic+json": {
              "type": "string"
            }
          },
          "metadata": {},
          "execution_count": 26
        }
      ]
    },
    {
      "cell_type": "code",
      "source": [
        "\"I'm not dead\".strip('d')"
      ],
      "metadata": {
        "id": "WN3CIFAPuWaQ",
        "outputId": "b8828d54-0eb1-4a03-deaa-f361c9d94366",
        "colab": {
          "base_uri": "https://localhost:8080/",
          "height": 35
        }
      },
      "execution_count": 30,
      "outputs": [
        {
          "output_type": "execute_result",
          "data": {
            "text/plain": [
              "\"I'm not dea\""
            ],
            "application/vnd.google.colaboratory.intrinsic+json": {
              "type": "string"
            }
          },
          "metadata": {},
          "execution_count": 30
        }
      ]
    },
    {
      "cell_type": "markdown",
      "source": [
        "> **`split`**: 구분자를 지정하여 문자열을 나누고, 나눈 값들의 리스트를 반환한다."
      ],
      "metadata": {
        "id": "6L7AedX6urf7"
      }
    },
    {
      "cell_type": "code",
      "source": [
        "\"NI! NI! NI! NI!\".split(sep = ' ')"
      ],
      "metadata": {
        "id": "-GywMyO-u1ua",
        "outputId": "19b1febb-07f5-4690-c013-997a39d8116b",
        "colab": {
          "base_uri": "https://localhost:8080/"
        }
      },
      "execution_count": 31,
      "outputs": [
        {
          "output_type": "execute_result",
          "data": {
            "text/plain": [
              "['NI!', 'NI!', 'NI!', 'NI!']"
            ]
          },
          "metadata": {},
          "execution_count": 31
        }
      ]
    },
    {
      "cell_type": "markdown",
      "source": [
        "> **`partition`**: `split`메서드와 비슷한 역할을 수행하지만 구분자도 반환한다."
      ],
      "metadata": {
        "id": "AECGezgCu-b-"
      }
    },
    {
      "cell_type": "code",
      "source": [
        "\"3.4\".partition('.')"
      ],
      "metadata": {
        "id": "WcgDr5pQvI1-",
        "outputId": "34978eee-603d-4d09-bd6d-4d762d9c66e9",
        "colab": {
          "base_uri": "https://localhost:8080/"
        }
      },
      "execution_count": 32,
      "outputs": [
        {
          "output_type": "execute_result",
          "data": {
            "text/plain": [
              "('3', '.', '4')"
            ]
          },
          "metadata": {},
          "execution_count": 32
        }
      ]
    },
    {
      "cell_type": "markdown",
      "source": [
        "> **`center`**: 지정한 너비로 문자열을 늘이고 문자열을 가운데 정렬한다."
      ],
      "metadata": {
        "id": "PZ0op6KLvSTA"
      }
    },
    {
      "cell_type": "code",
      "source": [
        "\"nine\".center(10)"
      ],
      "metadata": {
        "id": "RaJMHyfPvZnM",
        "outputId": "239e70ba-3128-49fc-a9a3-ca185f3f57c5",
        "colab": {
          "base_uri": "https://localhost:8080/",
          "height": 35
        }
      },
      "execution_count": 36,
      "outputs": [
        {
          "output_type": "execute_result",
          "data": {
            "text/plain": [
              "'   nine   '"
            ],
            "application/vnd.google.colaboratory.intrinsic+json": {
              "type": "string"
            }
          },
          "metadata": {},
          "execution_count": 36
        }
      ]
    },
    {
      "cell_type": "markdown",
      "source": [
        "> **`zfill`**: 문자열의 빈 칸을 '0'을 채운다."
      ],
      "metadata": {
        "id": "0WhuGBeXv55I"
      }
    },
    {
      "cell_type": "code",
      "source": [
        "\"9\".zfill(5)"
      ],
      "metadata": {
        "id": "CLmbyVLtv-Dh",
        "outputId": "a2aad03a-db7e-4d00-fb2d-420efc97a70e",
        "colab": {
          "base_uri": "https://localhost:8080/",
          "height": 35
        }
      },
      "execution_count": 38,
      "outputs": [
        {
          "output_type": "execute_result",
          "data": {
            "text/plain": [
              "'00009'"
            ],
            "application/vnd.google.colaboratory.intrinsic+json": {
              "type": "string"
            }
          },
          "metadata": {},
          "execution_count": 38
        }
      ]
    },
    {
      "cell_type": "markdown",
      "metadata": {
        "id": "9MkLaxcOium4"
      },
      "source": [
        "# join, splitlines, replace 메서드 실습하기\n",
        "## 1. join 메서드\n",
        "`join`메서드는 문자열을 연결하여 새로운 문자열을 반환하는 메서드이다."
      ]
    },
    {
      "cell_type": "code",
      "execution_count": 41,
      "metadata": {
        "id": "2nW2KtK0ium4",
        "outputId": "e0eba433-c283-4378-8a0b-b98e95d81a9f",
        "colab": {
          "base_uri": "https://localhost:8080/",
          "height": 35
        }
      },
      "outputs": [
        {
          "output_type": "execute_result",
          "data": {
            "text/plain": [
              "'40° 46` 52.837\" N 73° 58` 26.302\" W'"
            ],
            "application/vnd.google.colaboratory.intrinsic+json": {
              "type": "string"
            }
          },
          "metadata": {},
          "execution_count": 41
        }
      ],
      "source": [
        "d1 = '40°'\n",
        "m1 = \"46`\"\n",
        "s1 = '52.837\"'\n",
        "u1 = 'N'\n",
        "\n",
        "d2 = '73°'\n",
        "m2 = \"58`\"\n",
        "s2 = '26.302\"'\n",
        "u2 = 'W'\n",
        "\n",
        "coords = ' '.join([d1,m1,s1,u1,d2,m2,s2,u2])\n",
        "coords"
      ]
    },
    {
      "cell_type": "markdown",
      "source": [
        "## 2. splitlines 메서드\n",
        "`splitlines`메서드는 여러 행을 가진 문자열을 분리한 다음 리스트로 반환한다."
      ],
      "metadata": {
        "id": "yNE8rUImxm0v"
      }
    },
    {
      "cell_type": "code",
      "source": [
        "multi_str = \"\"\"Guard: What? Ridden on horse?\n",
        "King Arthur: Yes!\n",
        "Guard: You're using coconuts!\n",
        "King Arthur: What!\n",
        "Guard: You've got... coconut[s] and you're bagin ' 'em together.\n",
        "\"\"\"\n",
        "print(multi_str)"
      ],
      "metadata": {
        "id": "eala1SQtx1HE",
        "outputId": "c85b4466-9203-4800-f61d-5b1be7123052",
        "colab": {
          "base_uri": "https://localhost:8080/"
        }
      },
      "execution_count": 44,
      "outputs": [
        {
          "output_type": "stream",
          "name": "stdout",
          "text": [
            "Guard: What? Ridden on horse?\n",
            "King Arthur: Yes!\n",
            "Guard: You're using coconuts!\n",
            "King Arthur: What!\n",
            "Guard: You've got... coconut[s] and you're bagin ' 'em together.\n",
            "\n"
          ]
        }
      ]
    },
    {
      "cell_type": "code",
      "source": [
        "multi_str_split=multi_str.splitlines()\n",
        "print(multi_str_split)"
      ],
      "metadata": {
        "id": "rv5HOUNNymke",
        "outputId": "a3900c68-342a-49a5-a024-3908fabb4300",
        "colab": {
          "base_uri": "https://localhost:8080/"
        }
      },
      "execution_count": 45,
      "outputs": [
        {
          "output_type": "stream",
          "name": "stdout",
          "text": [
            "['Guard: What? Ridden on horse?', 'King Arthur: Yes!', \"Guard: You're using coconuts!\", 'King Arthur: What!', \"Guard: You've got... coconut[s] and you're bagin ' 'em together.\"]\n"
          ]
        }
      ]
    },
    {
      "cell_type": "markdown",
      "source": [
        "## 3. replace 메서드\n",
        "만약 위의 Guard의 대사에서 `Guard:`라는 문자열을 빼고 싶다면 문자열을 치환해 주는 `replace`메서드를 사용하면 된다."
      ],
      "metadata": {
        "id": "uP4TZgweyxFl"
      }
    },
    {
      "cell_type": "code",
      "source": [
        "guard = multi_str.replace(\"Guard:\",\"\").splitlines()[::2]\n",
        "print(guard)"
      ],
      "metadata": {
        "id": "fUJXhjU7zHR5",
        "outputId": "6bf4d57f-057c-42b6-a20f-1270e5468335",
        "colab": {
          "base_uri": "https://localhost:8080/"
        }
      },
      "execution_count": 46,
      "outputs": [
        {
          "output_type": "stream",
          "name": "stdout",
          "text": [
            "[' What? Ridden on horse?', \" You're using coconuts!\", \" You've got... coconut[s] and you're bagin ' 'em together.\"]\n"
          ]
        }
      ]
    },
    {
      "cell_type": "markdown",
      "metadata": {
        "id": "nkAkZLfJium5"
      },
      "source": [
        "# 문자열 포매팅 실습하기"
      ]
    },
    {
      "cell_type": "markdown",
      "source": [
        "**문자열 포매팅**이란 출력할 문자열의 형식을 지정하거나 변수를 조합하여 출력하는 방법을 의미한다."
      ],
      "metadata": {
        "id": "eTjoDz5gzh6S"
      }
    },
    {
      "cell_type": "markdown",
      "source": [
        "`{}`를 플레이스 홀더라고 부르며, 단어를 삽입할 위치를 지정한다."
      ],
      "metadata": {
        "id": "CDZp30_bz4zO"
      }
    },
    {
      "cell_type": "code",
      "execution_count": 47,
      "metadata": {
        "id": "d1rH8G1Rium5",
        "outputId": "9f403e2c-7149-4579-f4df-24ede2bf16fa",
        "colab": {
          "base_uri": "https://localhost:8080/"
        }
      },
      "outputs": [
        {
          "output_type": "stream",
          "name": "stdout",
          "text": [
            "It's just a flesh wound!\n"
          ]
        }
      ],
      "source": [
        "var = 'flesh wound'\n",
        "s = \"It's just a {}!\"\n",
        "\n",
        "print(s.format(var))"
      ]
    },
    {
      "cell_type": "code",
      "source": [
        "print(s.format('scratch'))"
      ],
      "metadata": {
        "id": "zSdySteozy3I",
        "outputId": "bf08fe7e-0c09-42ae-d2e6-1f0499ea91ca",
        "colab": {
          "base_uri": "https://localhost:8080/"
        }
      },
      "execution_count": 48,
      "outputs": [
        {
          "output_type": "stream",
          "name": "stdout",
          "text": [
            "It's just a scratch!\n"
          ]
        }
      ]
    },
    {
      "cell_type": "code",
      "source": [
        "s = \"\"\"Black Knight: 'Tis but a {0}.\n",
        "King Arthur: A {0}? Your arm's off!\n",
        "\"\"\"\n",
        "print(s.format('scratch'))"
      ],
      "metadata": {
        "id": "MMrckjGj0J62",
        "outputId": "a38f0f15-5df5-478b-b9b9-bea02aa94c78",
        "colab": {
          "base_uri": "https://localhost:8080/"
        }
      },
      "execution_count": 49,
      "outputs": [
        {
          "output_type": "stream",
          "name": "stdout",
          "text": [
            "Black Knight: 'Tis but a scratch.\n",
            "King Arthur: A scratch? Your arm's off!\n",
            "\n"
          ]
        }
      ]
    },
    {
      "cell_type": "markdown",
      "source": [
        "프레이스 홀더에는 변수를 지정해도 된다. 단, `format`메서드에 전달하는 문자열도 변수에 담아 전달해야 한다."
      ],
      "metadata": {
        "id": "z7P2vSwJ0dpP"
      }
    },
    {
      "cell_type": "code",
      "source": [
        "s = 'Hayden Planetarium Coordinates: {lat},{lon}'\n",
        "print(s.format(lat='40.7815°N',lon='73.9733°W'))"
      ],
      "metadata": {
        "id": "K8WdKxBP0pbe",
        "outputId": "adc5ed61-1dd9-4123-d860-2a4a8bc9ddec",
        "colab": {
          "base_uri": "https://localhost:8080/"
        }
      },
      "execution_count": 50,
      "outputs": [
        {
          "output_type": "stream",
          "name": "stdout",
          "text": [
            "Hayden Planetarium Coordinates: 40.7815°N,73.9733°W\n"
          ]
        }
      ]
    },
    {
      "cell_type": "markdown",
      "metadata": {
        "id": "PsUUMOOnium6"
      },
      "source": [
        "# 수치값 포매팅 실습"
      ]
    },
    {
      "cell_type": "markdown",
      "source": [
        "숫자 데이터도 플레이스 홀더를 사용할 수 있다."
      ],
      "metadata": {
        "id": "aJjfiw5X1Rkf"
      }
    },
    {
      "cell_type": "code",
      "execution_count": 55,
      "metadata": {
        "id": "D5kHtRB8ium6",
        "outputId": "df7dee26-047c-4982-f6d5-9bd68973b9f3",
        "colab": {
          "base_uri": "https://localhost:8080/"
        }
      },
      "outputs": [
        {
          "output_type": "stream",
          "name": "stdout",
          "text": [
            "Some digits of pi: 3.14159265359\n"
          ]
        }
      ],
      "source": [
        "print('Some digits of pi: {}'.format(3.14159265359))"
      ]
    },
    {
      "cell_type": "markdown",
      "source": [
        "플레이스 홀더에 `:,`를 넣으면 쉼표를 넣어 숫자를 표현할 수 있다."
      ],
      "metadata": {
        "id": "7gg0VWnv1zqN"
      }
    },
    {
      "cell_type": "code",
      "source": [
        "print(\"In 2005, Lu Chao of China recited {:,} digits of pi\".format(67890))"
      ],
      "metadata": {
        "id": "xZH41PwC14tA",
        "outputId": "d5bcda86-4911-4235-d430-f9f7eb61454e",
        "colab": {
          "base_uri": "https://localhost:8080/"
        }
      },
      "execution_count": 57,
      "outputs": [
        {
          "output_type": "stream",
          "name": "stdout",
          "text": [
            "In 2005, Lu Chao of China recited 67,890 digits of pi\n"
          ]
        }
      ]
    },
    {
      "cell_type": "markdown",
      "source": [
        "소수는 좀 더 다양한 방법으로 포매팅할 수 있다.\n",
        "`{'index':.n(%)}`에서 `index`는 메서드에서 전달받을 값을 의미하고,<br> `.n`은 소수점 이하의 숫자를 의미한다.(0이 아닌 숫자가 처음 나오는 순간을 기준으로 한다.)<br>\n",
        "이떄, `%`를 같이 써 줄 경우 백분율로 환산한다.\n"
      ],
      "metadata": {
        "id": "jH6P-YcN2gNJ"
      }
    },
    {
      "cell_type": "code",
      "source": [
        "print(\"I remember {0:.4} or {0:.4%} of what Lu Chao recited\".format(7/67890))"
      ],
      "metadata": {
        "id": "IeMyapyj3JrF",
        "outputId": "c48d04f9-4de6-4201-a952-e4a7bba30044",
        "colab": {
          "base_uri": "https://localhost:8080/"
        }
      },
      "execution_count": 58,
      "outputs": [
        {
          "output_type": "stream",
          "name": "stdout",
          "text": [
            "I remember 0.0001031 or 0.0103% of what Lu Chao recited\n"
          ]
        }
      ]
    },
    {
      "cell_type": "markdown",
      "source": [
        "만약 사용자의 아이디가 5자리의 숫자로 표현되어야 한다면 42와 같은 2자리 값은 00042로 출력해야 할 것이다.<br>\n"
      ],
      "metadata": {
        "id": "V9L-cVxo4Hjk"
      }
    },
    {
      "cell_type": "code",
      "source": [
        "print(\"My ID number is {0:05d}\".format(42))"
      ],
      "metadata": {
        "id": "_eQKUfI34T0q",
        "outputId": "5988f5e3-cfdb-4805-a168-dd3b36251b97",
        "colab": {
          "base_uri": "https://localhost:8080/"
        }
      },
      "execution_count": 59,
      "outputs": [
        {
          "output_type": "stream",
          "name": "stdout",
          "text": [
            "My ID number is 00042\n"
          ]
        }
      ]
    },
    {
      "cell_type": "markdown",
      "metadata": {
        "id": "eBmZEaQpium6"
      },
      "source": [
        "# % 연산자로 포매팅하기"
      ]
    },
    {
      "cell_type": "markdown",
      "source": [
        "만약 삽입할 값이 10진수라면 값을 삽입할 위치에 `%d`라고 입력해야 한다.<br>\n",
        "그런 다음 `%`연산자를 이용하여 삽입할 값을 지정하여 삽입할 값을 지정한다."
      ],
      "metadata": {
        "id": "_VSBGp475O0-"
      }
    },
    {
      "cell_type": "code",
      "source": [
        "s = 'I only know %d digits of pi' %7\n",
        "s"
      ],
      "metadata": {
        "id": "RG1pC_8V4GAL",
        "outputId": "2191601d-ec99-4f65-9592-e6e6a06fd2a5",
        "colab": {
          "base_uri": "https://localhost:8080/",
          "height": 35
        }
      },
      "execution_count": 61,
      "outputs": [
        {
          "output_type": "execute_result",
          "data": {
            "text/plain": [
              "'I only know 7 digits of pi'"
            ],
            "application/vnd.google.colaboratory.intrinsic+json": {
              "type": "string"
            }
          },
          "metadata": {},
          "execution_count": 61
        }
      ]
    },
    {
      "cell_type": "markdown",
      "source": [
        "만약 삽입할 값이 문자열이라면 값을 삽입할 위치에  %s라고 입력해야 한다.<br>\n",
        "이때, %와 s 사이에 소괄호를 사용하여 변수를 지정한다."
      ],
      "metadata": {
        "id": "0f_fKd_552UF"
      }
    },
    {
      "cell_type": "code",
      "source": [
        "print('Some digits of %(cont)s: %(value).2f' %{'cont':'a', 'value':2.718})"
      ],
      "metadata": {
        "id": "TkiSbLl-6Dnv",
        "outputId": "cc08d17d-201b-4683-8e83-88850c1a8420",
        "colab": {
          "base_uri": "https://localhost:8080/"
        }
      },
      "execution_count": 62,
      "outputs": [
        {
          "output_type": "stream",
          "name": "stdout",
          "text": [
            "Some digits of a: 2.72\n"
          ]
        }
      ]
    },
    {
      "cell_type": "markdown",
      "metadata": {
        "id": "mS_Cek_dium7"
      },
      "source": [
        "# f-strings로 포매팅 사용하기"
      ]
    },
    {
      "cell_type": "markdown",
      "source": [
        "`f-strings`포매팅은 파이썬 3.6버전에서 새롭게 도입한 포매팅이다.<br>사용 방법은 `format`메서드의 사용 방법과 동일하다.<br> 하지만 문자열 앞에 f를 붙인다는 점이 다르다.<br>이 방식은 읽기 쉬울 뿐만 아니라 문자열을 빠르게 처리한다는 장점이 있다."
      ],
      "metadata": {
        "id": "PbvIQg7h6UFx"
      }
    },
    {
      "cell_type": "code",
      "execution_count": 63,
      "metadata": {
        "id": "pissgWIkium7",
        "outputId": "a15d7c67-4a3d-43e5-8ecd-e2d3d0a53d1d",
        "colab": {
          "base_uri": "https://localhost:8080/"
        }
      },
      "outputs": [
        {
          "output_type": "stream",
          "name": "stdout",
          "text": [
            "It's just a flesh wound!\n"
          ]
        }
      ],
      "source": [
        "var = 'flesh wound'\n",
        "s = f\"It's just a {var}!\"\n",
        "print(s)"
      ]
    },
    {
      "cell_type": "code",
      "source": [
        "lat = '40.7815°N'\n",
        "lon = '73.9733°W'\n",
        "s = f'Hayden Planetarium Coordinates: {lat}, {lon}'\n",
        "s"
      ],
      "metadata": {
        "id": "xFDVNAv265--",
        "outputId": "b16aaa8d-1421-4b2b-c7f6-797f3d6ba0fe",
        "colab": {
          "base_uri": "https://localhost:8080/",
          "height": 35
        }
      },
      "execution_count": 64,
      "outputs": [
        {
          "output_type": "execute_result",
          "data": {
            "text/plain": [
              "'Hayden Planetarium Coordinates: 40.7815°N, 73.9733°W'"
            ],
            "application/vnd.google.colaboratory.intrinsic+json": {
              "type": "string"
            }
          },
          "metadata": {},
          "execution_count": 64
        }
      ]
    },
    {
      "cell_type": "markdown",
      "metadata": {
        "id": "oh1MlMk5ium7"
      },
      "source": [
        "# 정규표현식\n",
        "\n",
        "정규표현식에 대한 설명은 상세히 요약하지 않겠다.<br> 정규표현식에는 많은 이점이 있기 때문에 익혀두면 좋다.\n",
        "\n"
      ]
    },
    {
      "cell_type": "code",
      "source": [
        "import re\n",
        "tele_num = '1234567890'\n",
        "\n",
        "m = re.match(pattern = '\\d\\d\\d\\d\\d\\d\\d\\d\\d\\d', string = tele_num) # \\d{10}이라고 쓰는게 더 간단하다.\n",
        "print(type(m))\n",
        "print(m)"
      ],
      "metadata": {
        "id": "Cgex-gIy85gF",
        "outputId": "f40b1367-459e-4d96-ae00-e731bfecc2dc",
        "colab": {
          "base_uri": "https://localhost:8080/"
        }
      },
      "execution_count": 67,
      "outputs": [
        {
          "output_type": "stream",
          "name": "stdout",
          "text": [
            "<class 're.Match'>\n",
            "<re.Match object; span=(0, 10), match='1234567890'>\n"
          ]
        }
      ]
    },
    {
      "cell_type": "code",
      "source": [
        "print(bool(m))"
      ],
      "metadata": {
        "id": "6aBLuqsM86hx",
        "outputId": "ab5e06b4-db4d-4cd6-aac4-0dde68011440",
        "colab": {
          "base_uri": "https://localhost:8080/"
        }
      },
      "execution_count": 68,
      "outputs": [
        {
          "output_type": "stream",
          "name": "stdout",
          "text": [
            "True\n"
          ]
        }
      ]
    },
    {
      "cell_type": "code",
      "source": [
        "if m:\n",
        "  print('match')\n",
        "else:\n",
        "  print('no match')"
      ],
      "metadata": {
        "id": "RqsXKVqG9ALw",
        "outputId": "504fbec7-d3c1-4e3b-9b57-5959b5f99602",
        "colab": {
          "base_uri": "https://localhost:8080/"
        }
      },
      "execution_count": 69,
      "outputs": [
        {
          "output_type": "stream",
          "name": "stdout",
          "text": [
            "match\n"
          ]
        }
      ]
    },
    {
      "cell_type": "code",
      "source": [
        "# 패턴의 첫 번째 인덱스를 반환한다.\n",
        "print(m.start())\n",
        "\n",
        "# 패턴의 마지막 인덱스를 반환한다.\n",
        "print(m.end())\n",
        "\n",
        "# 패턴의 첫 번째와 마지막 인덱스를 한 번에 반환한다.\n",
        "print(m.span())\n",
        "\n",
        "# 찾아낸 패턴을 반환한다.\n",
        "print(m.group())"
      ],
      "metadata": {
        "id": "E2DIC3ud9KIS",
        "outputId": "05a1f30c-df5f-4bbe-9b24-958bb8d2c8ed",
        "colab": {
          "base_uri": "https://localhost:8080/"
        }
      },
      "execution_count": 71,
      "outputs": [
        {
          "output_type": "stream",
          "name": "stdout",
          "text": [
            "0\n",
            "10\n",
            "(0, 10)\n",
            "1234567890\n"
          ]
        }
      ]
    },
    {
      "cell_type": "code",
      "source": [
        "tele_num_spaces = '123 456 7890'\n",
        "m = re.match(pattern = '\\d{10}',string=tele_num_spaces)\n",
        "print(m)\n",
        "\n",
        "if m:\n",
        "  print('match')\n",
        "else:\n",
        "  print('no match')"
      ],
      "metadata": {
        "id": "p3PABoEC98jW",
        "outputId": "1b38a778-a147-4ab0-dc17-8d793c957c6c",
        "colab": {
          "base_uri": "https://localhost:8080/"
        }
      },
      "execution_count": 72,
      "outputs": [
        {
          "output_type": "stream",
          "name": "stdout",
          "text": [
            "None\n",
            "no match\n"
          ]
        }
      ]
    },
    {
      "cell_type": "markdown",
      "source": [
        "전화번호가 제대로 search되지 않는다. 다음과 같이 정규식을 다시 작성해 주어야 한다."
      ],
      "metadata": {
        "id": "Ti1GNCTG-XS3"
      }
    },
    {
      "cell_type": "code",
      "source": [
        "p = '\\d{3}\\s?\\d{3}\\s?\\d{4}'\n",
        "m = re.match(pattern=p, string = tele_num_spaces)\n",
        "m"
      ],
      "metadata": {
        "id": "lmviXCV7_gb2",
        "outputId": "20eebb03-a113-44f0-f91b-ad3a0dd1d5b8",
        "colab": {
          "base_uri": "https://localhost:8080/"
        }
      },
      "execution_count": 73,
      "outputs": [
        {
          "output_type": "execute_result",
          "data": {
            "text/plain": [
              "<re.Match object; span=(0, 12), match='123 456 7890'>"
            ]
          },
          "metadata": {},
          "execution_count": 73
        }
      ]
    },
    {
      "cell_type": "code",
      "source": [
        "tele_num_spaces_paren_dash = '(123) 456-7890'\n",
        "p = '\\(?\\d{3}\\)?\\s?\\d{3}\\s?-?\\d{4}'\n",
        "m = re.match(pattern=p, string = tele_num_spaces_paren_dash)\n",
        "m"
      ],
      "metadata": {
        "id": "khfhzSLI_30b",
        "outputId": "2ab5eb9a-b1d3-4310-ef5f-90682834a66e",
        "colab": {
          "base_uri": "https://localhost:8080/"
        }
      },
      "execution_count": 77,
      "outputs": [
        {
          "output_type": "execute_result",
          "data": {
            "text/plain": [
              "<re.Match object; span=(0, 14), match='(123) 456-7890'>"
            ]
          },
          "metadata": {},
          "execution_count": 77
        }
      ]
    },
    {
      "cell_type": "code",
      "source": [
        "cnty_tele_num_spaces_paren_dash = '+1 (123) 456-7890'\n",
        "p = '\\+?1\\s?\\(?\\d{3}\\)?\\s?\\d{3}\\s?-?\\d{4}'\n",
        "m = re.match(pattern=p, string = cnty_tele_num_spaces_paren_dash)\n",
        "m"
      ],
      "metadata": {
        "id": "T3wBOt3EAqpg",
        "outputId": "e68f0ff9-13c9-4580-9257-d6fa0d728cd0",
        "colab": {
          "base_uri": "https://localhost:8080/"
        }
      },
      "execution_count": 78,
      "outputs": [
        {
          "output_type": "execute_result",
          "data": {
            "text/plain": [
              "<re.Match object; span=(0, 17), match='+1 (123) 456-7890'>"
            ]
          },
          "metadata": {},
          "execution_count": 78
        }
      ]
    },
    {
      "cell_type": "markdown",
      "metadata": {
        "id": "jbvmNv0oium7"
      },
      "source": [
        "# compile 메서드로 정규식 메서드 사용하기"
      ]
    },
    {
      "cell_type": "markdown",
      "source": [
        "패턴을 반복해서 사용하려면 `compile`메서드로 패턴을 컴파일한 다음 변수에 저장하여 사용하면 된다.<br>"
      ],
      "metadata": {
        "id": "_zhAsE5gA4qm"
      }
    },
    {
      "cell_type": "code",
      "source": [
        "p = re.compile('\\d{10}')\n",
        "s = '1234567890'\n",
        "m = p.match(s)\n",
        "print(m)"
      ],
      "metadata": {
        "id": "BTg9AYLsBB9_",
        "outputId": "ee07fee0-d1a2-4638-82f9-3e6161900f1b",
        "colab": {
          "base_uri": "https://localhost:8080/"
        }
      },
      "execution_count": 81,
      "outputs": [
        {
          "output_type": "stream",
          "name": "stdout",
          "text": [
            "<re.Match object; span=(0, 10), match='1234567890'>\n"
          ]
        }
      ]
    }
  ],
  "metadata": {
    "kernelspec": {
      "display_name": "Python 3",
      "language": "python",
      "name": "python3"
    },
    "language_info": {
      "codemirror_mode": {
        "name": "ipython",
        "version": 3
      },
      "file_extension": ".py",
      "mimetype": "text/x-python",
      "name": "python",
      "nbconvert_exporter": "python",
      "pygments_lexer": "ipython3",
      "version": "3.6.5"
    },
    "colab": {
      "provenance": [],
      "include_colab_link": true
    }
  },
  "nbformat": 4,
  "nbformat_minor": 0
}